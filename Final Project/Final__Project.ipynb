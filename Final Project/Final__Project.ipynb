{
 "cells": [
  {
   "cell_type": "markdown",
   "metadata": {
    "colab_type": "text",
    "id": "nCamfxae_n0h"
   },
   "source": [
    "# MSDS 430 Final Project"
   ]
  },
  {
   "cell_type": "markdown",
   "metadata": {
    "colab_type": "text",
    "id": "yoBb_e1L_n0i"
   },
   "source": [
    "#### Complete the following and submit your notebook, html to Canvas. Your completed notebook should include all output, i.e. run each cell and save your file before submitting."
   ]
  },
  {
   "cell_type": "markdown",
   "metadata": {
    "colab_type": "text",
    "id": "cD0Nnk1M_n0j"
   },
   "source": [
    "<font color=blue> In this final project you will continue working with the building prices dataset. You have already run Python code to fix the bad data detected in Milestone 1. \n",
    "\n",
    "In Milestone 2 you selected a sngle variable that you think is best for predicting sale price.  Use your single variable from Milestone 2 to complete this assignment.  You can change your mind but tell me what you are doing and why.</font>"
   ]
  },
  {
   "cell_type": "markdown",
   "metadata": {
    "colab_type": "text",
    "id": "m32MZ3Ys_n0k"
   },
   "source": [
    "The code provided below uses age_home for the input variable. This is just so the code will run.  Replace age_home with the name of the variable you selected in Milestone 2.   \n",
    "\n",
    "Based on Milestone 2, it was determined that the variable taxes be used to predict price. The adjusted dataframe with duplicates removed, and with missing and erroneous values set to the median, showed that taxes had the highest correlation to price at 0.878568. Therefore, in the following, taxes will be the input variable."
   ]
  },
  {
   "cell_type": "markdown",
   "metadata": {
    "colab_type": "text",
    "id": "rGlQEzVR_n0k"
   },
   "source": [
    "# Section 1 Import and Explore\n",
    "Start by rebuilding the dataframes you used in Milestone 1 and 2."
   ]
  },
  {
   "cell_type": "code",
   "execution_count": 1,
   "metadata": {
    "colab": {
     "base_uri": "https://localhost:8080/",
     "height": 122
    },
    "colab_type": "code",
    "id": "NepCB-ec_n0l",
    "outputId": "b097d7ae-5db1-4667-e1d0-ad81f51b5b0c"
   },
   "outputs": [
    {
     "name": "stdout",
     "output_type": "stream",
     "text": [
      "Requirement already satisfied: pandas==0.23.4 in /usr/local/lib/python3.6/dist-packages (0.23.4)\n",
      "Requirement already satisfied: python-dateutil>=2.5.0 in /usr/local/lib/python3.6/dist-packages (from pandas==0.23.4) (2.8.1)\n",
      "Requirement already satisfied: numpy>=1.9.0 in /usr/local/lib/python3.6/dist-packages (from pandas==0.23.4) (1.18.4)\n",
      "Requirement already satisfied: pytz>=2011k in /usr/local/lib/python3.6/dist-packages (from pandas==0.23.4) (2018.9)\n",
      "Requirement already satisfied: six>=1.5 in /usr/local/lib/python3.6/dist-packages (from python-dateutil>=2.5.0->pandas==0.23.4) (1.12.0)\n"
     ]
    }
   ],
   "source": [
    "!pip install pandas==0.23.4\n",
    "import pandas as pd \n",
    "import numpy as np   \n",
    "import matplotlib.pyplot as plt   \n",
    "import statsmodels.formula.api as smf\n",
    "import seaborn as sns\n",
    "sns.set(style=\"ticks\", palette=\"bright\")\n"
   ]
  },
  {
   "cell_type": "code",
   "execution_count": 2,
   "metadata": {
    "colab": {
     "base_uri": "https://localhost:8080/",
     "height": 111,
     "resources": {
      "http://localhost:8080/nbextensions/google.colab/files.js": {
       "data": "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",
       "headers": [
        [
         "content-type",
         "application/javascript"
        ]
       ],
       "ok": true,
       "status": 200,
       "status_text": ""
      }
     }
    },
    "colab_type": "code",
    "id": "q62pZwF5__PO",
    "outputId": "4089e2aa-23eb-4d99-ba7a-81b417ea8aff"
   },
   "outputs": [
    {
     "data": {
      "text/html": [
       "\n",
       "     <input type=\"file\" id=\"files-88895dfd-7c1f-4502-978b-01a70067886e\" name=\"files[]\" multiple disabled />\n",
       "     <output id=\"result-88895dfd-7c1f-4502-978b-01a70067886e\">\n",
       "      Upload widget is only available when the cell has been executed in the\n",
       "      current browser session. Please rerun this cell to enable.\n",
       "      </output>\n",
       "      <script src=\"/nbextensions/google.colab/files.js\"></script> "
      ],
      "text/plain": [
       "<IPython.core.display.HTML object>"
      ]
     },
     "metadata": {
      "tags": []
     },
     "output_type": "display_data"
    },
    {
     "name": "stdout",
     "output_type": "stream",
     "text": [
      "Saving building prices 2018-1.csv to building prices 2018-1.csv\n"
     ]
    },
    {
     "data": {
      "text/plain": [
       "{'building prices 2018-1.csv': b'price,taxes,bathrooms,lot_size,living_space,num_garage,num_rooms,num_bedrms,age_home,num_fplaces\\r\\n25.9,4.918,1,3.472,0.998,1,7,4,42,0\\r\\n29.5,5.021,1,3.531,1.5,2,7,4,62,0\\r\\n27.9,4.543,1,2.275,1.175,1,6,3,40,0\\r\\n25.9,4.557,1,4.05,1.232,1,6,3,54,0\\r\\n29.9,5.06,1,0,1.121,1,6,3,0,0\\r\\n29.9,0,1,4.455,0.988,1,6,3,56,0\\r\\n30.9,5.898,1,5.85,1.24,1,7,3,51,1\\r\\n28.9,5.604,1,9.52,1.501,0,6,3,32,0\\r\\n35.9,5.828,1,6.435,1.225,2,6,3,32,0\\r\\n31.5,5.3,1,4.988,1.552,1,6,3,30,0\\r\\n31,6.271,1,5.52,0.975,1,5,2,30,0\\r\\n30.9,5.959,1,6.666,1.121,2,6,3,32,0\\r\\n30,5.05,1,5,1.02,0,5,2,46,1\\r\\n36.9,8.246,1.5,5.15,1.664,2,8,4,50,0\\r\\n41.9,6.697,1.5,6.902,1.488,1.5,7,3,22,1\\r\\n40.5,7.784,1.5,7.102,1.376,1,6,3,17,0\\r\\n30.9,5.959,1,6.666,1.121,2,6,3,32,0\\r\\n30,5.05,1,5,1.02,0,5,2,46,1\\r\\n36.9,8.246,1.5,5.15,1.664,2,8,4,50,0\\r\\n41.9,6.697,1.5,6.902,1.488,1.5,7,3,22,1\\r\\n40.5,7.784,1.5,7.102,1.376,1,6,3,17,0\\r\\n43.9,9.038,1,7.8,1.5,1.5,7,3,23,0\\r\\n37.9,0,1,5.52,9999,2,6,3,9999,1\\r\\n37.9,7.542,1.5,5,1.69,1,6,3,22,0\\r\\n44.5,8.795,1.5,9.89,1.82,2,8,4,50,1\\r\\n37.9,6.083,1.5,6.727,1.652,1,6,3,44,0\\r\\n38.9,8.361,1.5,9.15,0,2,8,4,0,1\\r\\n36.9,8.14,1,8,1.504,2,7,3,3,0\\r\\n45.8,9.142,1.5,7.326,1.831,1.5,8,4,31,0\\r\\n'}"
      ]
     },
     "execution_count": 2,
     "metadata": {
      "tags": []
     },
     "output_type": "execute_result"
    }
   ],
   "source": [
    "from google.colab import files\n",
    "import os\n",
    "files.upload()"
   ]
  },
  {
   "cell_type": "code",
   "execution_count": 3,
   "metadata": {
    "colab": {
     "base_uri": "https://localhost:8080/",
     "height": 204
    },
    "colab_type": "code",
    "id": "Z6JF2iJq_n0o",
    "outputId": "85e60e9a-412e-4d5a-f491-e66e502bfc6d"
   },
   "outputs": [
    {
     "data": {
      "text/html": [
       "<div>\n",
       "<style scoped>\n",
       "    .dataframe tbody tr th:only-of-type {\n",
       "        vertical-align: middle;\n",
       "    }\n",
       "\n",
       "    .dataframe tbody tr th {\n",
       "        vertical-align: top;\n",
       "    }\n",
       "\n",
       "    .dataframe thead th {\n",
       "        text-align: right;\n",
       "    }\n",
       "</style>\n",
       "<table border=\"1\" class=\"dataframe\">\n",
       "  <thead>\n",
       "    <tr style=\"text-align: right;\">\n",
       "      <th></th>\n",
       "      <th>price</th>\n",
       "      <th>taxes</th>\n",
       "      <th>bathrooms</th>\n",
       "      <th>lot_size</th>\n",
       "      <th>living_space</th>\n",
       "      <th>num_garage</th>\n",
       "      <th>num_rooms</th>\n",
       "      <th>num_bedrms</th>\n",
       "      <th>age_home</th>\n",
       "      <th>num_fplaces</th>\n",
       "    </tr>\n",
       "  </thead>\n",
       "  <tbody>\n",
       "    <tr>\n",
       "      <th>0</th>\n",
       "      <td>25.9</td>\n",
       "      <td>4.918</td>\n",
       "      <td>1.0</td>\n",
       "      <td>3.472</td>\n",
       "      <td>0.998</td>\n",
       "      <td>1.0</td>\n",
       "      <td>7</td>\n",
       "      <td>4</td>\n",
       "      <td>42</td>\n",
       "      <td>0</td>\n",
       "    </tr>\n",
       "    <tr>\n",
       "      <th>1</th>\n",
       "      <td>29.5</td>\n",
       "      <td>5.021</td>\n",
       "      <td>1.0</td>\n",
       "      <td>3.531</td>\n",
       "      <td>1.500</td>\n",
       "      <td>2.0</td>\n",
       "      <td>7</td>\n",
       "      <td>4</td>\n",
       "      <td>62</td>\n",
       "      <td>0</td>\n",
       "    </tr>\n",
       "    <tr>\n",
       "      <th>2</th>\n",
       "      <td>27.9</td>\n",
       "      <td>4.543</td>\n",
       "      <td>1.0</td>\n",
       "      <td>2.275</td>\n",
       "      <td>1.175</td>\n",
       "      <td>1.0</td>\n",
       "      <td>6</td>\n",
       "      <td>3</td>\n",
       "      <td>40</td>\n",
       "      <td>0</td>\n",
       "    </tr>\n",
       "    <tr>\n",
       "      <th>3</th>\n",
       "      <td>25.9</td>\n",
       "      <td>4.557</td>\n",
       "      <td>1.0</td>\n",
       "      <td>4.050</td>\n",
       "      <td>1.232</td>\n",
       "      <td>1.0</td>\n",
       "      <td>6</td>\n",
       "      <td>3</td>\n",
       "      <td>54</td>\n",
       "      <td>0</td>\n",
       "    </tr>\n",
       "    <tr>\n",
       "      <th>4</th>\n",
       "      <td>29.9</td>\n",
       "      <td>5.060</td>\n",
       "      <td>1.0</td>\n",
       "      <td>0.000</td>\n",
       "      <td>1.121</td>\n",
       "      <td>1.0</td>\n",
       "      <td>6</td>\n",
       "      <td>3</td>\n",
       "      <td>0</td>\n",
       "      <td>0</td>\n",
       "    </tr>\n",
       "  </tbody>\n",
       "</table>\n",
       "</div>"
      ],
      "text/plain": [
       "   price  taxes  bathrooms     ...       num_bedrms  age_home  num_fplaces\n",
       "0   25.9  4.918        1.0     ...                4        42            0\n",
       "1   29.5  5.021        1.0     ...                4        62            0\n",
       "2   27.9  4.543        1.0     ...                3        40            0\n",
       "3   25.9  4.557        1.0     ...                3        54            0\n",
       "4   29.9  5.060        1.0     ...                3         0            0\n",
       "\n",
       "[5 rows x 10 columns]"
      ]
     },
     "execution_count": 3,
     "metadata": {
      "tags": []
     },
     "output_type": "execute_result"
    }
   ],
   "source": [
    "df = pd.read_csv('building prices 2018-1.csv')\n",
    "df.columns = [s.lower() for s in df.columns]\n",
    "df.head()"
   ]
  },
  {
   "cell_type": "code",
   "execution_count": 4,
   "metadata": {
    "colab": {
     "base_uri": "https://localhost:8080/",
     "height": 301
    },
    "colab_type": "code",
    "id": "s4JpQapc_n0s",
    "outputId": "6eb131f7-50d5-44fb-94fd-8ac49f317bcf"
   },
   "outputs": [
    {
     "data": {
      "image/png": "[encoded data removed]",
      "text/plain": [
       "<Figure size 432x288 with 1 Axes>"
      ]
     },
     "metadata": {
      "needs_background": "light",
      "tags": []
     },
     "output_type": "display_data"
    }
   ],
   "source": [
    "def scat(dataframe,var1,var2):     \n",
    "    plt.scatter(dataframe[var1],dataframe[var2], s = 30)     \n",
    "    plt.title('Scatter')     \n",
    "    plt.xlabel(var1)\n",
    "    plt.ylabel(var2)\n",
    "          \n",
    "scat(df, 'taxes', 'price')"
   ]
  },
  {
   "cell_type": "code",
   "execution_count": 0,
   "metadata": {
    "colab": {},
    "colab_type": "code",
    "id": "dOwSNIAV_n0u"
   },
   "outputs": [],
   "source": []
  },
  {
   "cell_type": "markdown",
   "metadata": {
    "colab_type": "text",
    "id": "6NTI88b3_n0x"
   },
   "source": [
    "# Section 2 Base Model and RMSE  \n",
    "\n",
    "Run a base model and calculate the root mean square error for the model.  Kaggle is set up to score your models using RMSE and my score code also uses RMSE.  However, I have penalty's for out of range predictions and missing predictions so make sure none of these will apply to your model predictions.\n",
    "\n",
    "Using the statsmodels API for this linear model and age_home for the single prediction variable.  age_home will be used for the single prediction variable for each of the sections where the change will be improvement in the data due to the EDA.  Result will be model RMSE improvement due to the EDA rather than changes to the input variable."
   ]
  },
  {
   "cell_type": "code",
   "execution_count": 5,
   "metadata": {
    "colab": {
     "base_uri": "https://localhost:8080/",
     "height": 119
    },
    "colab_type": "code",
    "id": "xzOYnVoN_n0x",
    "outputId": "6b4139de-8d1f-4bdf-ce88-7d6394bd7397"
   },
   "outputs": [
    {
     "data": {
      "text/plain": [
       "0    33.003663\n",
       "1    33.163371\n",
       "2    32.422201\n",
       "3    32.443909\n",
       "4    33.223843\n",
       "dtype: float64"
      ]
     },
     "execution_count": 5,
     "metadata": {
      "tags": []
     },
     "output_type": "execute_result"
    }
   ],
   "source": [
    "base_model = smf.ols(formula='price ~ taxes', data=df).fit()\n",
    "base_model.summary()\n",
    "predictions = base_model.fittedvalues\n",
    "predictions.head()"
   ]
  },
  {
   "cell_type": "markdown",
   "metadata": {
    "colab_type": "text",
    "id": "rue0ONmT_n00"
   },
   "source": [
    "Join the model predictions data with actual price to calculate BASE_RMSE."
   ]
  },
  {
   "cell_type": "code",
   "execution_count": 6,
   "metadata": {
    "colab": {
     "base_uri": "https://localhost:8080/",
     "height": 34
    },
    "colab_type": "code",
    "id": "mcBF7O-p_n01",
    "outputId": "9b92f9a7-9578-42f1-ee73-27f31c3d3ad7"
   },
   "outputs": [
    {
     "data": {
      "text/plain": [
       "array([3.97])"
      ]
     },
     "execution_count": 6,
     "metadata": {
      "tags": []
     },
     "output_type": "execute_result"
    }
   ],
   "source": [
    "d = {'p_price': predictions}\n",
    "d1=pd.DataFrame(data=d)\n",
    "join = pd.concat([df,d1],axis = 1, join_axes=[df.index])\n",
    "join['sq_error'] = (join['price'] - join['p_price'])**2 \n",
    "mean_sq_error =  np.sqrt(join.sq_error).mean()\n",
    "BASE_RMSE = np.around([mean_sq_error], decimals=2)\n",
    "BASE_RMSE"
   ]
  },
  {
   "cell_type": "markdown",
   "metadata": {
    "colab_type": "text",
    "id": "jSlmTlpB_n06"
   },
   "source": [
    "Look at a scatter plot of price vs p_price to see if this model looks reasonable."
   ]
  },
  {
   "cell_type": "code",
   "execution_count": 7,
   "metadata": {
    "colab": {
     "base_uri": "https://localhost:8080/",
     "height": 301
    },
    "colab_type": "code",
    "id": "HTU4HllO_n07",
    "outputId": "8ed1d205-f23f-4442-80e9-f87e15f6b98b"
   },
   "outputs": [
    {
     "data": {
      "image/png": "[encoded data removed]",
      "text/plain": [
       "<Figure size 432x288 with 1 Axes>"
      ]
     },
     "metadata": {
      "needs_background": "light",
      "tags": []
     },
     "output_type": "display_data"
    }
   ],
   "source": [
    "scat(join, 'price', 'p_price')"
   ]
  },
  {
   "cell_type": "markdown",
   "metadata": {
    "colab_type": "text",
    "id": "UWttanBy_n09"
   },
   "source": [
    "# Section 3 RMSE (after removing duplicate records)"
   ]
  },
  {
   "cell_type": "code",
   "execution_count": 8,
   "metadata": {
    "colab": {
     "base_uri": "https://localhost:8080/",
     "height": 34
    },
    "colab_type": "code",
    "id": "Z-TaYILJ_n09",
    "outputId": "eee49802-6c41-4fd3-d83e-3c71ec2cc20f"
   },
   "outputs": [
    {
     "name": "stdout",
     "output_type": "stream",
     "text": [
      "Number of Records: 24\n"
     ]
    }
   ],
   "source": [
    "df1 = df.drop_duplicates(keep='first')\n",
    "print('Number of Records:', len(df1))"
   ]
  },
  {
   "cell_type": "markdown",
   "metadata": {
    "colab_type": "text",
    "id": "IO7pQC61_n0_"
   },
   "source": [
    "Model the data with the nodups dataset df1:"
   ]
  },
  {
   "cell_type": "code",
   "execution_count": 9,
   "metadata": {
    "colab": {
     "base_uri": "https://localhost:8080/",
     "height": 119
    },
    "colab_type": "code",
    "id": "-2gvyh74_n1A",
    "outputId": "58761591-286c-4399-da04-38eb5d55b36b"
   },
   "outputs": [
    {
     "data": {
      "text/plain": [
       "0    34.493316\n",
       "1    34.499997\n",
       "2    34.492648\n",
       "3    34.497324\n",
       "4    34.479285\n",
       "dtype: float64"
      ]
     },
     "execution_count": 9,
     "metadata": {
      "tags": []
     },
     "output_type": "execute_result"
    }
   ],
   "source": [
    "nodups_model = smf.ols(formula='price ~ age_home', data=df1).fit()\n",
    "nodups_model.summary()\n",
    "nodups_preds = nodups_model.fittedvalues\n",
    "nodups_preds.head()"
   ]
  },
  {
   "cell_type": "markdown",
   "metadata": {
    "colab_type": "text",
    "id": "m0NSFBhg_n1C"
   },
   "source": [
    "Calculate the NODUPS_RMSE:"
   ]
  },
  {
   "cell_type": "code",
   "execution_count": 10,
   "metadata": {
    "colab": {
     "base_uri": "https://localhost:8080/",
     "height": 34
    },
    "colab_type": "code",
    "id": "uOWJgl0M_n1D",
    "outputId": "2fde63a1-861c-4f29-8df7-362974e5ce02"
   },
   "outputs": [
    {
     "data": {
      "text/plain": [
       "array([5.14])"
      ]
     },
     "execution_count": 10,
     "metadata": {
      "tags": []
     },
     "output_type": "execute_result"
    }
   ],
   "source": [
    "d = {'p_price': nodups_preds}\n",
    "d2=pd.DataFrame(data=d)\n",
    "join = pd.concat([df,d2],axis = 1, join_axes=[df.index])\n",
    "join['sq_error'] = (join['price'] - join['p_price'])**2 \n",
    "mean_sq_error =  np.sqrt(join.sq_error).mean()\n",
    "NODUPS_RMSE = np.around([mean_sq_error], decimals=2)\n",
    "NODUPS_RMSE"
   ]
  },
  {
   "cell_type": "markdown",
   "metadata": {
    "colab_type": "text",
    "id": "Lvl26hHf_n1G"
   },
   "source": [
    "# Section 4 RMSE Score (after EDA fixing outliers and missing data)"
   ]
  },
  {
   "cell_type": "code",
   "execution_count": 0,
   "metadata": {
    "colab": {},
    "colab_type": "code",
    "id": "Wvg_EIqE_n1H"
   },
   "outputs": [],
   "source": [
    "df2 = df1.copy()\n",
    "df2=df2.replace({'living_space': {9999: 0}})\n",
    "df2=df2.replace({'age_home': {9999: 0}})\n",
    "m = np.median(df2.taxes[df2.taxes>0])\n",
    "df2=df2.replace({'taxes': {0: m}})\n",
    "n = np.median(df2.lot_size[df2.lot_size>0])\n",
    "df2=df2.replace({'lot_size': {0: n}})\n",
    "p = np.median(df2.living_space[df2.living_space>0])\n",
    "df2=df2.replace({'living_space': {0: p}})\n",
    "q = np.median(df2.age_home[df2.age_home>0])\n",
    "df2=df2.replace({'age_home': {0: q}})"
   ]
  },
  {
   "cell_type": "markdown",
   "metadata": {
    "colab_type": "text",
    "id": "Dry_2ceR_n1J"
   },
   "source": [
    "Use df2 with outlier and missing data fixes in place."
   ]
  },
  {
   "cell_type": "code",
   "execution_count": 12,
   "metadata": {
    "colab": {
     "base_uri": "https://localhost:8080/",
     "height": 119
    },
    "colab_type": "code",
    "id": "dTw2fsVC_n1J",
    "outputId": "0bf7b1ca-eeb0-4240-fe90-1147b8516cf1"
   },
   "outputs": [
    {
     "data": {
      "text/plain": [
       "0    33.529572\n",
       "1    29.838623\n",
       "2    33.898667\n",
       "3    31.315003\n",
       "4    35.375046\n",
       "dtype: float64"
      ]
     },
     "execution_count": 12,
     "metadata": {
      "tags": []
     },
     "output_type": "execute_result"
    }
   ],
   "source": [
    "age_home_model = smf.ols(formula='price ~ age_home', data=df2).fit()\n",
    "age_home_model.summary()\n",
    "age_home_preds = age_home_model.fittedvalues\n",
    "age_home_preds.head()"
   ]
  },
  {
   "cell_type": "markdown",
   "metadata": {
    "colab_type": "text",
    "id": "yhlWQwaK_n1L"
   },
   "source": [
    "Calculate age_home_RMSE for the nodups, no outliers and no missing values data df2."
   ]
  },
  {
   "cell_type": "code",
   "execution_count": 13,
   "metadata": {
    "colab": {
     "base_uri": "https://localhost:8080/",
     "height": 34
    },
    "colab_type": "code",
    "id": "aPwJczMp_n1M",
    "outputId": "592e3e51-79ab-4735-a2a4-3603673c4578"
   },
   "outputs": [
    {
     "data": {
      "text/plain": [
       "array([4.45])"
      ]
     },
     "execution_count": 13,
     "metadata": {
      "tags": []
     },
     "output_type": "execute_result"
    }
   ],
   "source": [
    "d = {'p_price': age_home_preds}\n",
    "d2=pd.DataFrame(data=d)\n",
    "join = pd.concat([df,d2],axis = 1, join_axes=[df.index])\n",
    "join['sq_error'] = (join['price'] - join['p_price'])**2 \n",
    "mean_sq_error =  np.sqrt(join.sq_error).mean()\n",
    "age_home_RMSE = np.around([mean_sq_error], decimals=2)\n",
    "age_home_RMSE"
   ]
  },
  {
   "cell_type": "markdown",
   "metadata": {
    "colab_type": "text",
    "id": "mKX8V12-_n1O"
   },
   "source": [
    "# In your Python career you will see instances where others have offered a predictive model without doing any EDA and no data fixes.  You know how to fix this.  Be kind in sharing your skill."
   ]
  },
  {
   "cell_type": "markdown",
   "metadata": {
    "colab_type": "text",
    "id": "u278Fohx_n1O"
   },
   "source": [
    "# OK  Summarize the RMSE for each of the models."
   ]
  },
  {
   "cell_type": "code",
   "execution_count": 14,
   "metadata": {
    "colab": {
     "base_uri": "https://localhost:8080/",
     "height": 85
    },
    "colab_type": "code",
    "id": "ExItFDoR_n1P",
    "outputId": "5c1a8249-fb65-4e07-d680-1a4fcd0e7667"
   },
   "outputs": [
    {
     "data": {
      "text/plain": [
       "Base Model        [3.97]\n",
       "nodups Model      [5.14]\n",
       "age_home Model    [4.45]\n",
       "dtype: object"
      ]
     },
     "execution_count": 14,
     "metadata": {
      "tags": []
     },
     "output_type": "execute_result"
    }
   ],
   "source": [
    "models_df = ({'Base Model':BASE_RMSE,\n",
    "                      'nodups Model':NODUPS_RMSE,\n",
    "                      'age_home Model':age_home_RMSE})\n",
    "models = pd.Series(models_df)                \n",
    "models"
   ]
  },
  {
   "cell_type": "markdown",
   "metadata": {
    "colab_type": "text",
    "id": "z8L2V3ce_n1R"
   },
   "source": [
    "# Bonus Points\n",
    "# Submit your model to Kaggle.com for scoring.  Use the code below to create the csv file for Kaggle.  You may have to add the column variable names to the csv file to submit to kaggle."
   ]
  },
  {
   "cell_type": "code",
   "execution_count": 0,
   "metadata": {
    "colab": {},
    "colab_type": "code",
    "id": "EqdfqXjq_n1T",
    "scrolled": true
   },
   "outputs": [],
   "source": [
    "#df.to_csv('predictions.csv')\n",
    "df.to_csv('submission.csv' , index=False)"
   ]
  },
  {
   "cell_type": "markdown",
   "metadata": {
    "colab_type": "text",
    "id": "cYQw5OK6_n1V"
   },
   "source": [
    "# Everything below is optional\n",
    "age_home model with removal of duplicate records and fixes for outliers and missing data show major improvement for the simple single variable model.  Still more you can do by including other variables.  \n",
    "\n",
    "One more look at a pairplot for price vs p_price with the single variable model:"
   ]
  },
  {
   "cell_type": "code",
   "execution_count": 16,
   "metadata": {
    "colab": {
     "base_uri": "https://localhost:8080/",
     "height": 476
    },
    "colab_type": "code",
    "id": "3aMyrHH__n1V",
    "outputId": "b73e105a-9e3f-4379-cfa8-cf3dfcc9a360"
   },
   "outputs": [
    {
     "data": {
      "text/plain": [
       "<seaborn.axisgrid.PairGrid at 0x7fd4d0207cc0>"
      ]
     },
     "execution_count": 16,
     "metadata": {
      "tags": []
     },
     "output_type": "execute_result"
    },
    {
     "data": {
      "image/png": "[encoded data removed]",
      "text/plain": [
       "<Figure size 432x432 with 1 Axes>"
      ]
     },
     "metadata": {
      "tags": []
     },
     "output_type": "display_data"
    }
   ],
   "source": [
    "sns.set(style=\"ticks\", palette=\"bright\")\n",
    "sns.pairplot(x_vars=[\"price\"], y_vars=[\"p_price\"], data=join, height = 6)"
   ]
  },
  {
   "cell_type": "code",
   "execution_count": 17,
   "metadata": {
    "colab": {
     "base_uri": "https://localhost:8080/",
     "height": 476
    },
    "colab_type": "code",
    "id": "ptMWAzIt_n1X",
    "outputId": "958efb83-9d5b-4e65-dae4-619860751e5a"
   },
   "outputs": [
    {
     "data": {
      "text/plain": [
       "<seaborn.axisgrid.PairGrid at 0x7fd4d0194cf8>"
      ]
     },
     "execution_count": 17,
     "metadata": {
      "tags": []
     },
     "output_type": "execute_result"
    },
    {
     "data": {
      "image/png": "[encoded data removed]",
      "text/plain": [
       "<Figure size 505.675x432 with 1 Axes>"
      ]
     },
     "metadata": {
      "tags": []
     },
     "output_type": "display_data"
    }
   ],
   "source": [
    "#Pairplot for price vs. taxes by bathrooms\n",
    "import seaborn as sns\n",
    "sns.set(style=\"ticks\", palette=\"bright\")\n",
    "sns.pairplot(x_vars=[\"taxes\"], y_vars=[\"price\"], data=df2, hue=\"bathrooms\",  \n",
    "             palette=[\"g\", \"b\",\"y\",\"r\"],height = 6)"
   ]
  },
  {
   "cell_type": "code",
   "execution_count": 18,
   "metadata": {
    "colab": {
     "base_uri": "https://localhost:8080/",
     "height": 476
    },
    "colab_type": "code",
    "id": "gsa-pydL_n1Z",
    "outputId": "39ecadcb-6c0c-49d4-f105-f93db34192f0"
   },
   "outputs": [
    {
     "data": {
      "text/plain": [
       "<seaborn.axisgrid.PairGrid at 0x7fd4d00eab38>"
      ]
     },
     "execution_count": 18,
     "metadata": {
      "tags": []
     },
     "output_type": "execute_result"
    },
    {
     "data": {
      "image/png": "[encoded data removed]",
      "text/plain": [
       "<Figure size 511.175x432 with 1 Axes>"
      ]
     },
     "metadata": {
      "tags": []
     },
     "output_type": "display_data"
    }
   ],
   "source": [
    "#Pairplot for price vs. taxes by num_rooms\n",
    "import seaborn as sns\n",
    "sns.set(style=\"ticks\", palette=\"bright\")\n",
    "sns.pairplot(x_vars=[\"taxes\"], y_vars=[\"price\"], data=df2, hue=\"num_rooms\",  \n",
    "             palette=[\"g\",\"b\",\"y\",\"r\"],height = 6)"
   ]
  },
  {
   "cell_type": "code",
   "execution_count": 19,
   "metadata": {
    "colab": {
     "base_uri": "https://localhost:8080/",
     "height": 476
    },
    "colab_type": "code",
    "id": "wPBGZZSDMYJ_",
    "outputId": "edead272-db4b-419d-9ceb-d70578ff9716"
   },
   "outputs": [
    {
     "data": {
      "text/plain": [
       "<seaborn.axisgrid.PairGrid at 0x7fd4d00eabe0>"
      ]
     },
     "execution_count": 19,
     "metadata": {
      "tags": []
     },
     "output_type": "execute_result"
    },
    {
     "data": {
      "image/png": "[encoded data removed]",
      "text/plain": [
       "<Figure size 516.425x432 with 1 Axes>"
      ]
     },
     "metadata": {
      "tags": []
     },
     "output_type": "display_data"
    }
   ],
   "source": [
    "#Pairplot for price vs. taxes by num_garage\n",
    "import seaborn as sns\n",
    "sns.set(style=\"ticks\", palette=\"bright\")\n",
    "sns.pairplot(x_vars=[\"taxes\"], y_vars=[\"price\"], data=df2, hue=\"num_garage\",  \n",
    "             palette=[\"g\",\"b\",\"y\",\"r\"],height = 6)\n"
   ]
  },
  {
   "cell_type": "code",
   "execution_count": 0,
   "metadata": {
    "colab": {},
    "colab_type": "code",
    "id": "fadxnAxxMaNs"
   },
   "outputs": [],
   "source": []
  },
  {
   "cell_type": "markdown",
   "metadata": {
    "colab_type": "text",
    "id": "DPY1Utia_n1Z"
   },
   "source": [
    "Bathrooms may be a good addition to the model.  Maybe something else too.  You decide."
   ]
  },
  {
   "cell_type": "markdown",
   "metadata": {
    "colab_type": "text",
    "id": "YV3GZG1rMdCb"
   },
   "source": [
    "Three pair plots of taxes versus price by another variable are included above by bathrooms, by num_rooms, and by num_garage. Each plot shows that these additional variables have interesting relationships between tax and price. Num_garage seems to show 1.5 and 2.0 garages have higher taxes and prices than 0 and 1 garages. Num_rooms also seems to show that a good amount of houses with 7 and 8 rooms have higher taxes and prices than 5 and 6 rooms. However, there is quite a bit of variation. The most discernable relationship found is with bathrooms. It is clear that houses with 1.5 bathrooms have higher taxes and prices than those with 1 bathroom. To better determine this, further analysis would be required."
   ]
  },
  {
   "cell_type": "code",
   "execution_count": 0,
   "metadata": {
    "colab": {},
    "colab_type": "code",
    "id": "QMqsoaoKMdhT"
   },
   "outputs": [],
   "source": []
  }
 ],
 "metadata": {
  "accelerator": "TPU",
  "colab": {
   "collapsed_sections": [],
   "name": "Behzad_Final Project.ipynb",
   "provenance": []
  },
  "kernelspec": {
   "display_name": "Python 3",
   "language": "python",
   "name": "python3"
  },
  "language_info": {
   "codemirror_mode": {
    "name": "ipython",
    "version": 3
   },
   "file_extension": ".py",
   "mimetype": "text/x-python",
   "name": "python",
   "nbconvert_exporter": "python",
   "pygments_lexer": "ipython3",
   "version": "3.7.6"
  }
 },
 "nbformat": 4,
 "nbformat_minor": 1
}
