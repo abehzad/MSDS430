{
 "cells": [
  {
   "cell_type": "markdown",
   "metadata": {},
   "source": [
    "# MSDS 430 Milestone 2"
   ]
  },
  {
   "cell_type": "markdown",
   "metadata": {},
   "source": [
    "#### Complete the following and submit your notebook, html and data file to Canvas. Your completed notebook should include all output, i.e. run each cell and save your file before submitting."
   ]
  },
  {
   "cell_type": "markdown",
   "metadata": {},
   "source": [
    "<font color=blue> In this second milestone you will continue working with the building prices dataset. Here you run Python code to fix bad data detected in Milestone 1.  Follow the steps carefully and watch what happens when you correct the data.  You may want to run some of this code in Spyder do quick review and sort of the data.\n",
    "You will need the numpy and matplotlib packages for this assignment.</font>"
   ]
  },
  {
   "cell_type": "markdown",
   "metadata": {},
   "source": [
    "Start by providing a list of the errors you plan to correct from Milestone 1:"
   ]
  },
  {
   "cell_type": "markdown",
   "metadata": {},
   "source": [
    "List of errors that need changing found in Milestone 1 are as follows:\n",
    "\n",
    "    Records with 9999 for variables in living_space and age_home\n",
    "        Record number was 22\n",
    "    Records with 0 for variables in taxes, lot_size, and living_space\n",
    "        Record numbers were 4, 5, 22, and 26\n",
    "        Since age_home 0 values are included in records 4 and 26 these probably should be changed as well (0 garages not included).\n",
    "    Duplicate records should be eliminated and these are at record numbers 16 through 20.\n",
    "    \n",
    "    The following cells show the records that need changing (changes made 'df2' are shown at the end of the notebook):\n"
   ]
  },
  {
   "cell_type": "code",
   "execution_count": 28,
   "metadata": {},
   "outputs": [
    {
     "data": {
      "text/html": [
       "<div>\n",
       "<style scoped>\n",
       "    .dataframe tbody tr th:only-of-type {\n",
       "        vertical-align: middle;\n",
       "    }\n",
       "\n",
       "    .dataframe tbody tr th {\n",
       "        vertical-align: top;\n",
       "    }\n",
       "\n",
       "    .dataframe thead th {\n",
       "        text-align: right;\n",
       "    }\n",
       "</style>\n",
       "<table border=\"1\" class=\"dataframe\">\n",
       "  <thead>\n",
       "    <tr style=\"text-align: right;\">\n",
       "      <th></th>\n",
       "      <th>price</th>\n",
       "      <th>taxes</th>\n",
       "      <th>bathrooms</th>\n",
       "      <th>lot_size</th>\n",
       "      <th>living_space</th>\n",
       "      <th>num_garage</th>\n",
       "      <th>num_rooms</th>\n",
       "      <th>num_bedrms</th>\n",
       "      <th>age_home</th>\n",
       "      <th>num_fplaces</th>\n",
       "    </tr>\n",
       "  </thead>\n",
       "  <tbody>\n",
       "    <tr>\n",
       "      <th>4</th>\n",
       "      <td>29.9</td>\n",
       "      <td>5.060</td>\n",
       "      <td>1.0</td>\n",
       "      <td>0.000</td>\n",
       "      <td>1.121</td>\n",
       "      <td>1.0</td>\n",
       "      <td>6</td>\n",
       "      <td>3</td>\n",
       "      <td>0</td>\n",
       "      <td>0</td>\n",
       "    </tr>\n",
       "    <tr>\n",
       "      <th>5</th>\n",
       "      <td>29.9</td>\n",
       "      <td>0.000</td>\n",
       "      <td>1.0</td>\n",
       "      <td>4.455</td>\n",
       "      <td>0.988</td>\n",
       "      <td>1.0</td>\n",
       "      <td>6</td>\n",
       "      <td>3</td>\n",
       "      <td>56</td>\n",
       "      <td>0</td>\n",
       "    </tr>\n",
       "    <tr>\n",
       "      <th>22</th>\n",
       "      <td>37.9</td>\n",
       "      <td>0.000</td>\n",
       "      <td>1.0</td>\n",
       "      <td>5.520</td>\n",
       "      <td>9999.000</td>\n",
       "      <td>2.0</td>\n",
       "      <td>6</td>\n",
       "      <td>3</td>\n",
       "      <td>9999</td>\n",
       "      <td>1</td>\n",
       "    </tr>\n",
       "    <tr>\n",
       "      <th>26</th>\n",
       "      <td>38.9</td>\n",
       "      <td>8.361</td>\n",
       "      <td>1.5</td>\n",
       "      <td>9.150</td>\n",
       "      <td>0.000</td>\n",
       "      <td>2.0</td>\n",
       "      <td>8</td>\n",
       "      <td>4</td>\n",
       "      <td>0</td>\n",
       "      <td>1</td>\n",
       "    </tr>\n",
       "  </tbody>\n",
       "</table>\n",
       "</div>"
      ],
      "text/plain": [
       "    price  taxes  bathrooms  lot_size  living_space  num_garage  num_rooms  \\\n",
       "4    29.9  5.060        1.0     0.000         1.121         1.0          6   \n",
       "5    29.9  0.000        1.0     4.455         0.988         1.0          6   \n",
       "22   37.9  0.000        1.0     5.520      9999.000         2.0          6   \n",
       "26   38.9  8.361        1.5     9.150         0.000         2.0          8   \n",
       "\n",
       "    num_bedrms  age_home  num_fplaces  \n",
       "4            3         0            0  \n",
       "5            3        56            0  \n",
       "22           3      9999            1  \n",
       "26           4         0            1  "
      ]
     },
     "execution_count": 28,
     "metadata": {},
     "output_type": "execute_result"
    }
   ],
   "source": [
    "#Records with 9999 for variables living_space and age_home\n",
    "df.loc[(df['living_space'] == 9999) | (df['age_home'] == 9999)]\n",
    "#Records with 0 for variables taxes, lot_size, and living_space\n",
    "df.loc[(df['taxes'] == 0) | (df['lot_size'] == 0) | (df['living_space'] == 0)]"
   ]
  },
  {
   "cell_type": "code",
   "execution_count": 29,
   "metadata": {},
   "outputs": [
    {
     "data": {
      "text/html": [
       "<div>\n",
       "<style scoped>\n",
       "    .dataframe tbody tr th:only-of-type {\n",
       "        vertical-align: middle;\n",
       "    }\n",
       "\n",
       "    .dataframe tbody tr th {\n",
       "        vertical-align: top;\n",
       "    }\n",
       "\n",
       "    .dataframe thead th {\n",
       "        text-align: right;\n",
       "    }\n",
       "</style>\n",
       "<table border=\"1\" class=\"dataframe\">\n",
       "  <thead>\n",
       "    <tr style=\"text-align: right;\">\n",
       "      <th></th>\n",
       "      <th>price</th>\n",
       "      <th>taxes</th>\n",
       "      <th>bathrooms</th>\n",
       "      <th>lot_size</th>\n",
       "      <th>living_space</th>\n",
       "      <th>num_garage</th>\n",
       "      <th>num_rooms</th>\n",
       "      <th>num_bedrms</th>\n",
       "      <th>age_home</th>\n",
       "      <th>num_fplaces</th>\n",
       "    </tr>\n",
       "  </thead>\n",
       "  <tbody>\n",
       "    <tr>\n",
       "      <th>16</th>\n",
       "      <td>30.9</td>\n",
       "      <td>5.959</td>\n",
       "      <td>1.0</td>\n",
       "      <td>6.666</td>\n",
       "      <td>1.121</td>\n",
       "      <td>2.0</td>\n",
       "      <td>6</td>\n",
       "      <td>3</td>\n",
       "      <td>32</td>\n",
       "      <td>0</td>\n",
       "    </tr>\n",
       "    <tr>\n",
       "      <th>17</th>\n",
       "      <td>30.0</td>\n",
       "      <td>5.050</td>\n",
       "      <td>1.0</td>\n",
       "      <td>5.000</td>\n",
       "      <td>1.020</td>\n",
       "      <td>0.0</td>\n",
       "      <td>5</td>\n",
       "      <td>2</td>\n",
       "      <td>46</td>\n",
       "      <td>1</td>\n",
       "    </tr>\n",
       "    <tr>\n",
       "      <th>18</th>\n",
       "      <td>36.9</td>\n",
       "      <td>8.246</td>\n",
       "      <td>1.5</td>\n",
       "      <td>5.150</td>\n",
       "      <td>1.664</td>\n",
       "      <td>2.0</td>\n",
       "      <td>8</td>\n",
       "      <td>4</td>\n",
       "      <td>50</td>\n",
       "      <td>0</td>\n",
       "    </tr>\n",
       "    <tr>\n",
       "      <th>19</th>\n",
       "      <td>41.9</td>\n",
       "      <td>6.697</td>\n",
       "      <td>1.5</td>\n",
       "      <td>6.902</td>\n",
       "      <td>1.488</td>\n",
       "      <td>1.5</td>\n",
       "      <td>7</td>\n",
       "      <td>3</td>\n",
       "      <td>22</td>\n",
       "      <td>1</td>\n",
       "    </tr>\n",
       "    <tr>\n",
       "      <th>20</th>\n",
       "      <td>40.5</td>\n",
       "      <td>7.784</td>\n",
       "      <td>1.5</td>\n",
       "      <td>7.102</td>\n",
       "      <td>1.376</td>\n",
       "      <td>1.0</td>\n",
       "      <td>6</td>\n",
       "      <td>3</td>\n",
       "      <td>17</td>\n",
       "      <td>0</td>\n",
       "    </tr>\n",
       "  </tbody>\n",
       "</table>\n",
       "</div>"
      ],
      "text/plain": [
       "    price  taxes  bathrooms  lot_size  living_space  num_garage  num_rooms  \\\n",
       "16   30.9  5.959        1.0     6.666         1.121         2.0          6   \n",
       "17   30.0  5.050        1.0     5.000         1.020         0.0          5   \n",
       "18   36.9  8.246        1.5     5.150         1.664         2.0          8   \n",
       "19   41.9  6.697        1.5     6.902         1.488         1.5          7   \n",
       "20   40.5  7.784        1.5     7.102         1.376         1.0          6   \n",
       "\n",
       "    num_bedrms  age_home  num_fplaces  \n",
       "16           3        32            0  \n",
       "17           2        46            1  \n",
       "18           4        50            0  \n",
       "19           3        22            1  \n",
       "20           3        17            0  "
      ]
     },
     "execution_count": 29,
     "metadata": {},
     "output_type": "execute_result"
    }
   ],
   "source": [
    "#Records of duplicates except for first occurence.\n",
    "df[df.duplicated()]"
   ]
  },
  {
   "cell_type": "markdown",
   "metadata": {},
   "source": []
  },
  {
   "cell_type": "code",
   "execution_count": 30,
   "metadata": {},
   "outputs": [],
   "source": [
    "import pandas as pd\n",
    "import numpy as np\n",
    "import matplotlib.pyplot as plt\n",
    "import matplotlib.patches as mpatches\n",
    "df = pd.read_csv('building prices 2018-1.csv')\n",
    "df.columns = [s.lower() for s in df.columns]\n",
    "\n"
   ]
  },
  {
   "cell_type": "markdown",
   "metadata": {},
   "source": [
    "Correlations are a good look:"
   ]
  },
  {
   "cell_type": "code",
   "execution_count": 31,
   "metadata": {},
   "outputs": [
    {
     "name": "stdout",
     "output_type": "stream",
     "text": [
      "                 price     taxes  bathrooms  lot_size  living_space  \\\n",
      "price         1.000000  0.589096   0.742073  0.606545      0.099648   \n",
      "bathrooms     0.742073  0.586638   1.000000  0.390975     -0.147673   \n",
      "lot_size      0.606545  0.489010   0.390975  1.000000     -0.034538   \n",
      "taxes         0.589096  1.000000   0.586638  0.489010     -0.529982   \n",
      "num_rooms     0.520735  0.527409   0.531055  0.325648     -0.101863   \n",
      "num_garage    0.416992  0.242113   0.238496  0.212292      0.209678   \n",
      "num_bedrms    0.293422  0.328326   0.433624  0.131475     -0.045628   \n",
      "num_fplaces   0.228521 -0.086144   0.153522  0.258775      0.306138   \n",
      "living_space  0.099648 -0.529982  -0.147673 -0.034538      1.000000   \n",
      "age_home      0.096283 -0.533123  -0.149398 -0.036475      0.999960   \n",
      "\n",
      "              num_garage  num_rooms  num_bedrms  age_home  num_fplaces  \n",
      "price           0.416992   0.520735    0.293422  0.096283     0.228521  \n",
      "bathrooms       0.238496   0.531055    0.433624 -0.149398     0.153522  \n",
      "lot_size        0.212292   0.325648    0.131475 -0.036475     0.258775  \n",
      "taxes           0.242113   0.527409    0.328326 -0.533123    -0.086144  \n",
      "num_rooms       0.629236   1.000000    0.881930 -0.101970     0.098068  \n",
      "num_garage      1.000000   0.629236    0.608219  0.208690    -0.059914  \n",
      "num_bedrms      0.608219   0.881930    1.000000 -0.044693    -0.149149  \n",
      "num_fplaces    -0.059914   0.098068   -0.149149  0.306301     1.000000  \n",
      "living_space    0.209678  -0.101863   -0.045628  0.999960     0.306138  \n",
      "age_home        0.208690  -0.101970   -0.044693  1.000000     0.306301  \n"
     ]
    }
   ],
   "source": [
    "#df2 is shown at the end, values sorted by price.\n",
    "corr = df[df.columns].corr()\n",
    "corr.sort_values(by=['price'], inplace=True, ascending = False)\n",
    "print(corr)"
   ]
  },
  {
   "cell_type": "markdown",
   "metadata": {},
   "source": [
    "Scatter plots are a good way to reveal relationships between the target variable, price and each explanatory variable.  And, they will provide visual detail for some of the bad data.  To run this code for other input variables, change the variable name 'age_home' in the code line scat(df, 'age_home', 'price') to one of the other variables."
   ]
  },
  {
   "cell_type": "code",
   "execution_count": 32,
   "metadata": {},
   "outputs": [
    {
     "data": {
      "image/png": "[encoded data removed]",
      "text/plain": [
       "<Figure size 432x288 with 1 Axes>"
      ]
     },
     "metadata": {
      "needs_background": "light"
     },
     "output_type": "display_data"
    }
   ],
   "source": [
    "#df2 is shown at the end\n",
    "\n",
    "#Adjusted slightly to see differences in variables on the same plot\n",
    "def scat(dataframe,var1,var2):     \n",
    "    plt.scatter(dataframe[var1],dataframe[var2], s = 30)     \n",
    "    plt.title('Scatter')     \n",
    "    plt.xlabel(\"x\")\n",
    "    plt.ylabel(var2)\n",
    "    blue_patch = mpatches.Patch(color='blue', label='Taxes')\n",
    "    orange_patch = mpatches.Patch(color='orange', label='Lot Size')\n",
    "    green_patch = mpatches.Patch(color='green', label='Bathrooms')\n",
    "    plt.legend(handles=[blue_patch, orange_patch, green_patch])   \n",
    "\n",
    "#Lot_size and taxes seem to have similar scales\n",
    "scat(df, 'taxes', 'price')\n",
    "scat(df,'lot_size', 'price')\n",
    "scat(df,'bathrooms', 'price')\n",
    "\n",
    "#Age_home does not look good nor does living_space because of 0 and 9999 values in the data\n",
    "#scat(df,'age_home', 'price')\n",
    "#scat(df, 'living_space','price')\n",
    "\n",
    "#Looking at the correlation table in the above, the highest correlation to price are number of bathrooms, lot_size comes \n",
    "#second, and taxes come third. However, when looking at a scatterplot of all three variables it looks as though taxes have a \n",
    "#closer (linear) relationship to price with regards to variability (versus lot size). Bathrooms does not seem to say much \n",
    "#visually as it is a nominal measurement that ranges from 1 to 1.5. 0 values in taxes seem to have had an effect on the \n",
    "#correlation value in relation to price and its place in the table.\n",
    "\n"
   ]
  },
  {
   "cell_type": "markdown",
   "metadata": {},
   "source": [
    "Zero values definitely causing problems."
   ]
  },
  {
   "cell_type": "markdown",
   "metadata": {},
   "source": [
    "Note, there are 5 duplicate records in this DataFrame.  What do you think?  Should they be dropped?  Your choice.   "
   ]
  },
  {
   "cell_type": "code",
   "execution_count": 33,
   "metadata": {},
   "outputs": [
    {
     "name": "stdout",
     "output_type": "stream",
     "text": [
      "Number of Records: 29\n",
      "Number of Records: 24\n"
     ]
    }
   ],
   "source": [
    "df1 = df.drop_duplicates(keep='first')\n",
    "print('Number of Records:', len(df))\n",
    "print('Number of Records:', len(df1))"
   ]
  },
  {
   "cell_type": "markdown",
   "metadata": {},
   "source": [
    "Next is some code for fixing out of range values and some 0 values.  Apply these where you think they should be.  The choice here was to replace with a median, mean is also a good choice."
   ]
  },
  {
   "cell_type": "markdown",
   "metadata": {},
   "source": [
    "Note the choice here to start with df2 = df1.copy().  If the choice had been df2 = df1, later changes made to df2 would also have been made to df1.  Be careful of this in all of your programming."
   ]
  },
  {
   "cell_type": "code",
   "execution_count": 34,
   "metadata": {},
   "outputs": [],
   "source": [
    "df2 = df1.copy()\n",
    "df2=df2.replace({'living_space': {9999: 0}})\n",
    "df2=df2.replace({'age_home': {9999: 0}})\n",
    "m = np.median(df2.taxes[df2.taxes>0])\n",
    "df2=df2.replace({'taxes': {0: m}})\n",
    "n = np.median(df2.lot_size[df2.lot_size>0])\n",
    "df2=df2.replace({'lot_size': {0: n}})\n",
    "p = np.median(df2.living_space[df2.living_space>0])\n",
    "df2=df2.replace({'living_space': {0: p}})\n",
    "q = np.median(df2.age_home[df2.age_home>0])\n",
    "df2=df2.replace({'age_home': {0: q}})"
   ]
  },
  {
   "cell_type": "markdown",
   "metadata": {},
   "source": [
    "Good idea to take a look at the corrected DataFrame."
   ]
  },
  {
   "cell_type": "code",
   "execution_count": 35,
   "metadata": {},
   "outputs": [
    {
     "data": {
      "text/html": [
       "<div>\n",
       "<style scoped>\n",
       "    .dataframe tbody tr th:only-of-type {\n",
       "        vertical-align: middle;\n",
       "    }\n",
       "\n",
       "    .dataframe tbody tr th {\n",
       "        vertical-align: top;\n",
       "    }\n",
       "\n",
       "    .dataframe thead th {\n",
       "        text-align: right;\n",
       "    }\n",
       "</style>\n",
       "<table border=\"1\" class=\"dataframe\">\n",
       "  <thead>\n",
       "    <tr style=\"text-align: right;\">\n",
       "      <th></th>\n",
       "      <th>price</th>\n",
       "      <th>taxes</th>\n",
       "      <th>bathrooms</th>\n",
       "      <th>lot_size</th>\n",
       "      <th>living_space</th>\n",
       "      <th>num_garage</th>\n",
       "      <th>num_rooms</th>\n",
       "      <th>num_bedrms</th>\n",
       "      <th>age_home</th>\n",
       "      <th>num_fplaces</th>\n",
       "    </tr>\n",
       "  </thead>\n",
       "  <tbody>\n",
       "    <tr>\n",
       "      <th>count</th>\n",
       "      <td>24.000000</td>\n",
       "      <td>24.000000</td>\n",
       "      <td>24.000000</td>\n",
       "      <td>24.000000</td>\n",
       "      <td>24.000000</td>\n",
       "      <td>24.000000</td>\n",
       "      <td>24.000000</td>\n",
       "      <td>24.000000</td>\n",
       "      <td>24.000000</td>\n",
       "      <td>24.000000</td>\n",
       "    </tr>\n",
       "    <tr>\n",
       "      <th>mean</th>\n",
       "      <td>34.629167</td>\n",
       "      <td>6.494958</td>\n",
       "      <td>1.166667</td>\n",
       "      <td>6.090792</td>\n",
       "      <td>1.376542</td>\n",
       "      <td>1.312500</td>\n",
       "      <td>6.500000</td>\n",
       "      <td>3.166667</td>\n",
       "      <td>36.041667</td>\n",
       "      <td>0.250000</td>\n",
       "    </tr>\n",
       "    <tr>\n",
       "      <th>std</th>\n",
       "      <td>6.012702</td>\n",
       "      <td>1.491552</td>\n",
       "      <td>0.240772</td>\n",
       "      <td>1.936369</td>\n",
       "      <td>0.262751</td>\n",
       "      <td>0.604557</td>\n",
       "      <td>0.884652</td>\n",
       "      <td>0.564660</td>\n",
       "      <td>13.889249</td>\n",
       "      <td>0.442326</td>\n",
       "    </tr>\n",
       "    <tr>\n",
       "      <th>min</th>\n",
       "      <td>25.900000</td>\n",
       "      <td>4.543000</td>\n",
       "      <td>1.000000</td>\n",
       "      <td>2.275000</td>\n",
       "      <td>0.975000</td>\n",
       "      <td>0.000000</td>\n",
       "      <td>5.000000</td>\n",
       "      <td>2.000000</td>\n",
       "      <td>3.000000</td>\n",
       "      <td>0.000000</td>\n",
       "    </tr>\n",
       "    <tr>\n",
       "      <th>25%</th>\n",
       "      <td>29.900000</td>\n",
       "      <td>5.240000</td>\n",
       "      <td>1.000000</td>\n",
       "      <td>4.997000</td>\n",
       "      <td>1.161500</td>\n",
       "      <td>1.000000</td>\n",
       "      <td>6.000000</td>\n",
       "      <td>3.000000</td>\n",
       "      <td>30.000000</td>\n",
       "      <td>0.000000</td>\n",
       "    </tr>\n",
       "    <tr>\n",
       "      <th>50%</th>\n",
       "      <td>33.700000</td>\n",
       "      <td>6.021000</td>\n",
       "      <td>1.000000</td>\n",
       "      <td>5.850000</td>\n",
       "      <td>1.432000</td>\n",
       "      <td>1.000000</td>\n",
       "      <td>6.000000</td>\n",
       "      <td>3.000000</td>\n",
       "      <td>32.000000</td>\n",
       "      <td>0.000000</td>\n",
       "    </tr>\n",
       "    <tr>\n",
       "      <th>75%</th>\n",
       "      <td>38.150000</td>\n",
       "      <td>7.873000</td>\n",
       "      <td>1.500000</td>\n",
       "      <td>7.158000</td>\n",
       "      <td>1.516000</td>\n",
       "      <td>2.000000</td>\n",
       "      <td>7.000000</td>\n",
       "      <td>3.250000</td>\n",
       "      <td>47.000000</td>\n",
       "      <td>0.250000</td>\n",
       "    </tr>\n",
       "    <tr>\n",
       "      <th>max</th>\n",
       "      <td>45.800000</td>\n",
       "      <td>9.142000</td>\n",
       "      <td>1.500000</td>\n",
       "      <td>9.890000</td>\n",
       "      <td>1.831000</td>\n",
       "      <td>2.000000</td>\n",
       "      <td>8.000000</td>\n",
       "      <td>4.000000</td>\n",
       "      <td>62.000000</td>\n",
       "      <td>1.000000</td>\n",
       "    </tr>\n",
       "  </tbody>\n",
       "</table>\n",
       "</div>"
      ],
      "text/plain": [
       "           price      taxes  bathrooms   lot_size  living_space  num_garage  \\\n",
       "count  24.000000  24.000000  24.000000  24.000000     24.000000   24.000000   \n",
       "mean   34.629167   6.494958   1.166667   6.090792      1.376542    1.312500   \n",
       "std     6.012702   1.491552   0.240772   1.936369      0.262751    0.604557   \n",
       "min    25.900000   4.543000   1.000000   2.275000      0.975000    0.000000   \n",
       "25%    29.900000   5.240000   1.000000   4.997000      1.161500    1.000000   \n",
       "50%    33.700000   6.021000   1.000000   5.850000      1.432000    1.000000   \n",
       "75%    38.150000   7.873000   1.500000   7.158000      1.516000    2.000000   \n",
       "max    45.800000   9.142000   1.500000   9.890000      1.831000    2.000000   \n",
       "\n",
       "       num_rooms  num_bedrms   age_home  num_fplaces  \n",
       "count  24.000000   24.000000  24.000000    24.000000  \n",
       "mean    6.500000    3.166667  36.041667     0.250000  \n",
       "std     0.884652    0.564660  13.889249     0.442326  \n",
       "min     5.000000    2.000000   3.000000     0.000000  \n",
       "25%     6.000000    3.000000  30.000000     0.000000  \n",
       "50%     6.000000    3.000000  32.000000     0.000000  \n",
       "75%     7.000000    3.250000  47.000000     0.250000  \n",
       "max     8.000000    4.000000  62.000000     1.000000  "
      ]
     },
     "execution_count": 35,
     "metadata": {},
     "output_type": "execute_result"
    }
   ],
   "source": [
    "dfdesc = df2.describe(include = \"all\")\n",
    "dfdesc"
   ]
  },
  {
   "cell_type": "code",
   "execution_count": 36,
   "metadata": {},
   "outputs": [
    {
     "data": {
      "text/html": [
       "<div>\n",
       "<style scoped>\n",
       "    .dataframe tbody tr th:only-of-type {\n",
       "        vertical-align: middle;\n",
       "    }\n",
       "\n",
       "    .dataframe tbody tr th {\n",
       "        vertical-align: top;\n",
       "    }\n",
       "\n",
       "    .dataframe thead th {\n",
       "        text-align: right;\n",
       "    }\n",
       "</style>\n",
       "<table border=\"1\" class=\"dataframe\">\n",
       "  <thead>\n",
       "    <tr style=\"text-align: right;\">\n",
       "      <th></th>\n",
       "      <th>price</th>\n",
       "      <th>taxes</th>\n",
       "      <th>bathrooms</th>\n",
       "      <th>lot_size</th>\n",
       "      <th>living_space</th>\n",
       "      <th>num_garage</th>\n",
       "      <th>num_rooms</th>\n",
       "      <th>num_bedrms</th>\n",
       "      <th>age_home</th>\n",
       "      <th>num_fplaces</th>\n",
       "    </tr>\n",
       "  </thead>\n",
       "  <tbody>\n",
       "    <tr>\n",
       "      <th>4</th>\n",
       "      <td>29.9</td>\n",
       "      <td>5.060</td>\n",
       "      <td>1.0</td>\n",
       "      <td>5.850</td>\n",
       "      <td>1.121</td>\n",
       "      <td>1.0</td>\n",
       "      <td>6</td>\n",
       "      <td>3</td>\n",
       "      <td>32.0</td>\n",
       "      <td>0</td>\n",
       "    </tr>\n",
       "    <tr>\n",
       "      <th>5</th>\n",
       "      <td>29.9</td>\n",
       "      <td>6.021</td>\n",
       "      <td>1.0</td>\n",
       "      <td>4.455</td>\n",
       "      <td>0.988</td>\n",
       "      <td>1.0</td>\n",
       "      <td>6</td>\n",
       "      <td>3</td>\n",
       "      <td>56.0</td>\n",
       "      <td>0</td>\n",
       "    </tr>\n",
       "    <tr>\n",
       "      <th>22</th>\n",
       "      <td>37.9</td>\n",
       "      <td>6.021</td>\n",
       "      <td>1.0</td>\n",
       "      <td>5.520</td>\n",
       "      <td>1.432</td>\n",
       "      <td>2.0</td>\n",
       "      <td>6</td>\n",
       "      <td>3</td>\n",
       "      <td>32.0</td>\n",
       "      <td>1</td>\n",
       "    </tr>\n",
       "    <tr>\n",
       "      <th>26</th>\n",
       "      <td>38.9</td>\n",
       "      <td>8.361</td>\n",
       "      <td>1.5</td>\n",
       "      <td>9.150</td>\n",
       "      <td>1.432</td>\n",
       "      <td>2.0</td>\n",
       "      <td>8</td>\n",
       "      <td>4</td>\n",
       "      <td>32.0</td>\n",
       "      <td>1</td>\n",
       "    </tr>\n",
       "  </tbody>\n",
       "</table>\n",
       "</div>"
      ],
      "text/plain": [
       "    price  taxes  bathrooms  lot_size  living_space  num_garage  num_rooms  \\\n",
       "4    29.9  5.060        1.0     5.850         1.121         1.0          6   \n",
       "5    29.9  6.021        1.0     4.455         0.988         1.0          6   \n",
       "22   37.9  6.021        1.0     5.520         1.432         2.0          6   \n",
       "26   38.9  8.361        1.5     9.150         1.432         2.0          8   \n",
       "\n",
       "    num_bedrms  age_home  num_fplaces  \n",
       "4            3      32.0            0  \n",
       "5            3      56.0            0  \n",
       "22           3      32.0            1  \n",
       "26           4      32.0            1  "
      ]
     },
     "execution_count": 36,
     "metadata": {},
     "output_type": "execute_result"
    }
   ],
   "source": [
    "#Records that needed changing have changed\n",
    "df2.loc[[4,5,22,26]]"
   ]
  },
  {
   "cell_type": "markdown",
   "metadata": {},
   "source": [
    "<div class=\"alert alert-block alert-success\"><b> Problem 1 Rerun the correlations and scatter plots for your corrected DataFrame df2.  How does it look now?  Which single variable would you choose to predict price?</b></div>"
   ]
  },
  {
   "cell_type": "code",
   "execution_count": 37,
   "metadata": {},
   "outputs": [
    {
     "name": "stdout",
     "output_type": "stream",
     "text": [
      "                 price     taxes  bathrooms  lot_size  living_space  \\\n",
      "price         1.000000  0.878568   0.709777  0.632456      0.719465   \n",
      "taxes         0.878568  1.000000   0.647127  0.660702      0.644244   \n",
      "living_space  0.719465  0.644244   0.666874  0.479647      1.000000   \n",
      "bathrooms     0.709777  0.647127   1.000000  0.397303      0.666874   \n",
      "lot_size      0.632456  0.660702   0.397303  1.000000      0.479647   \n",
      "num_rooms     0.528444  0.643835   0.510310  0.380146      0.600522   \n",
      "num_garage    0.461468  0.455324   0.224022  0.191461      0.345542   \n",
      "num_bedrms    0.281520  0.370768   0.426401  0.144578      0.511030   \n",
      "num_fplaces   0.266878  0.122065   0.204124  0.292759      0.064626   \n",
      "age_home     -0.426302 -0.410172  -0.132180 -0.419405     -0.171243   \n",
      "\n",
      "              num_garage  num_rooms    num_bedrms  age_home   num_fplaces  \n",
      "price           0.461468   0.528444  2.815200e-01 -0.426302  2.668783e-01  \n",
      "taxes           0.455324   0.643835  3.707681e-01 -0.410172  1.220649e-01  \n",
      "living_space    0.345542   0.600522  5.110301e-01 -0.171243  6.462552e-02  \n",
      "bathrooms       0.224022   0.510310  4.264014e-01 -0.132180  2.041241e-01  \n",
      "lot_size        0.191461   0.380146  1.445776e-01 -0.419405  2.927591e-01  \n",
      "num_rooms       0.589387   1.000000  8.703883e-01  0.072540  2.222222e-01  \n",
      "num_garage      1.000000   0.589387  5.412988e-01 -0.089643  1.016185e-01  \n",
      "num_bedrms      0.541299   0.870388  1.000000e+00  0.259634 -5.797951e-17  \n",
      "num_fplaces     0.101618   0.222222 -5.797951e-17  0.118540  1.000000e+00  \n",
      "age_home       -0.089643   0.072540  2.596341e-01  1.000000  1.185403e-01  \n"
     ]
    }
   ],
   "source": [
    "#Correlations df2 sorted by price\n",
    "corr2 = df2[df2.columns].corr()\n",
    "corr2.sort_values(by=['price'], inplace=True, ascending = False)\n",
    "print(corr2)"
   ]
  },
  {
   "cell_type": "code",
   "execution_count": 38,
   "metadata": {},
   "outputs": [
    {
     "data": {
      "image/png": "[encoded data removed]",
      "text/plain": [
       "<Figure size 432x288 with 1 Axes>"
      ]
     },
     "metadata": {
      "needs_background": "light"
     },
     "output_type": "display_data"
    }
   ],
   "source": [
    "#Adjusted slightly to see difference in variables on the same plot\n",
    "def scat(dataframe,var1,var2):     \n",
    "    plt.scatter(dataframe[var1],dataframe[var2], s = 30)     \n",
    "    plt.title('Scatter')     \n",
    "    plt.xlabel(\"x\")\n",
    "    plt.ylabel(var2)\n",
    "    blue_patch = mpatches.Patch(color='blue', label='Taxes')\n",
    "    orange_patch = mpatches.Patch(color='orange', label='Lot Size')\n",
    "    plt.legend(handles=[blue_patch, orange_patch]) \n",
    "    \n",
    "#Lot_size and taxes seem to have similar scales\n",
    "scat(df2, 'taxes', 'price')\n",
    "scat(df2,'lot_size', 'price')\n",
    "\n",
    "#scat(df2,'age_home', 'price') #Negative correlation\n",
    "\n",
    "#scat(df2, 'living_space','price')\n",
    "#scat(df2, 'bathrooms','price')\n",
    "\n",
    "#Though living_space and bathrooms are in the top 3 in relation to price (along with taxes being at the top) in the correlation \n",
    "#table based on the adjusted dataframe (df2), they do not seem to show a close relationship to price visually. Again bathrooms \n",
    "#are a nominal measurement, so it does not make sense to compare it to price. However, living_space is not a nominal \n",
    "#measurement, yet it seems to show a lot of variation when compared to taxes and price, and lot_size and price. The scatter \n",
    "#plot for living_space in relation to price is shown in the next cell. It maybe that the data for living_space needs to be \n",
    "#transformed (regression) for comparative purposes as it comes in at the second highest in the correlation table in relation \n",
    "#to price based on the adjusted dataframe (df2).\n",
    "\n",
    "#Additionally, now looking at the scatter plot of taxes and lot_size versus price in comparison to the updated correlation \n",
    "#table, there is a lot more sense to be made from it. Based on the correlation table with the adjusted dataframe, \n",
    "#it is evident that lot_size does not have a closer (postive) relationship to price,and taxes do. The elimination of the zero \n",
    "#values have had a significant effect on the table and it now closely matches the scatterplot.\n",
    "\n"
   ]
  },
  {
   "cell_type": "code",
   "execution_count": 39,
   "metadata": {},
   "outputs": [
    {
     "data": {
      "image/png": "[encoded data removed]",
      "text/plain": [
       "<Figure size 432x288 with 1 Axes>"
      ]
     },
     "metadata": {
      "needs_background": "light"
     },
     "output_type": "display_data"
    }
   ],
   "source": [
    "#Scatterplot for living_space\n",
    "def scat(dataframe,var1,var2):     \n",
    "    plt.scatter(dataframe[var1],dataframe[var2], s = 30)     \n",
    "    plt.title('Scatter')     \n",
    "    plt.xlabel(var1)\n",
    "    plt.ylabel(var2)\n",
    "    blue_patch = mpatches.Patch(color='blue', label=var1)\n",
    "    plt.legend(handles=[blue_patch]) \n",
    "scat(df2, 'living_space', 'price')"
   ]
  },
  {
   "cell_type": "markdown",
   "metadata": {},
   "source": [
    "In conclusion, the correlation table based on the original data frame showed that bathrooms, a nominal measurement, had the highest correlation to price. Lot_size came second, then taxes. However, when looking at a scatterplot of all three variables it seemed that taxes had a closer (linear/postive) relationship to price. The 0 values in taxes seemed to have significantly affected the correlation calculation. The 0 and 9999 values in living_space also seemed to have affected the correlation calculation (0.0997). With the adjusted data frame (df2), taxes in relation to price is at the top of the list in the correlation table (0.8786). Living_space comes in second (0.7195) in the adjusted data frame, while it was second to last in the table based off the original data frame. Whether or not duplicated records had a significant influence on correlation values in the original dataframe is uncertain and would require further analysis.\n",
    "\n",
    "As lot_sizes in df2 becomes 4th on the list of the correlation table, the correlated value with price seems to be accurately reflected in the adjusted scatterplot in comparison to taxes. As taxes in relation to price has the highest value in the correlation table based on the adjusted dataframe (df2), I would choose that variable to predict price. However, it may also be beneficial to analyze living_space as well. Although the scatterplot on living_space looks like there is a lot of noise, further analysis on that variable may prove to be fruitful.\n"
   ]
  },
  {
   "cell_type": "markdown",
   "metadata": {},
   "source": []
  },
  {
   "cell_type": "code",
   "execution_count": null,
   "metadata": {},
   "outputs": [],
   "source": []
  }
 ],
 "metadata": {
  "kernelspec": {
   "display_name": "Python 3",
   "language": "python",
   "name": "python3"
  },
  "language_info": {
   "codemirror_mode": {
    "name": "ipython",
    "version": 3
   },
   "file_extension": ".py",
   "mimetype": "text/x-python",
   "name": "python",
   "nbconvert_exporter": "python",
   "pygments_lexer": "ipython3",
   "version": "3.7.6"
  }
 },
 "nbformat": 4,
 "nbformat_minor": 2
}
