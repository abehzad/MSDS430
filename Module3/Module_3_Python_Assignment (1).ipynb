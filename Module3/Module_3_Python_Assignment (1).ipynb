{
 "cells": [
  {
   "cell_type": "markdown",
   "metadata": {},
   "source": [
    "# MSDS 430 Module 3 Python Assignment"
   ]
  },
  {
   "cell_type": "markdown",
   "metadata": {},
   "source": [
    "<div class=\"alert alert-block alert-warning\"><b>In this assignment you will read through the notebook and complete the exercises. Once you are satisfied with the results, submit your notebook and html file to Canvas. Your files should include all output, i.e. run each cell and save your file before submitting.</b></div>"
   ]
  },
  {
   "cell_type": "markdown",
   "metadata": {},
   "source": [
    "<div class=\"alert alert-block alert-info\">The main topics this week are loops and functions. There are two types of loops that we are working with - the <font color=black>for loop</font> and the <font color=black>while loop</font>. You have a couple of questions in this assignment dealing with each that will give you a chance to compare the two. Think about which is more concise and when each might be used. Additionally we are working with functions, user-defined and built-in. It will be worth your time to explore Python's built in functions beyond what is asked of you in this assignment. User-defined functions will appear quite frequently throughout the course and can be difficult to grasp at first. Be sure to use the <font color=black>codelens</font> view in your interactive textbook for each of the sample programs provided to understand how Python processes functions. This will reinforce your understanding of the concept.  </div>"
   ]
  },
  {
   "cell_type": "markdown",
   "metadata": {},
   "source": [
    "### Math Module"
   ]
  },
  {
   "cell_type": "markdown",
   "metadata": {},
   "source": [
    "Python has many built-in math functions within the math module. A list of these can be found at __[Math Module](https://docs.python.org/3/library/math.html)__. For example, `math.gcd(x, y)` returns the gcd of two numbers. To use any of the functions in this module, we first have to import the module for Python to recognize it."
   ]
  },
  {
   "cell_type": "code",
   "execution_count": 1,
   "metadata": {},
   "outputs": [
    {
     "data": {
      "text/plain": [
       "6"
      ]
     },
     "execution_count": 1,
     "metadata": {},
     "output_type": "execute_result"
    }
   ],
   "source": [
    "import math\n",
    "math.gcd(24,1002)"
   ]
  },
  {
   "cell_type": "markdown",
   "metadata": {},
   "source": [
    "<div class=\"alert alert-block alert-success\"><b>Problem 1</b>: Use the <font color=black><i><u>math.pi( )</u></i></font> function to calculate the volume of a sphere with radius 5, rounded to 3 decimals.</div>"
   ]
  },
  {
   "cell_type": "code",
   "execution_count": 5,
   "metadata": {},
   "outputs": [
    {
     "name": "stdout",
     "output_type": "stream",
     "text": [
      "volume :  523.599\n"
     ]
    }
   ],
   "source": [
    "pi = math.pi\n",
    "vol = round(4/3*pi*5**3, 3)\n",
    "print(\"volume : \", vol)"
   ]
  },
  {
   "cell_type": "markdown",
   "metadata": {},
   "source": [
    "<div class=\"alert alert-block alert-success\"><b>Problem 2</b>: Create a <font color=black><b>for loop</b></font> that uses the <font color=black><i><u>math.sqrt(&nbsp;)</u></i></font> function and calculates and prints the square root of each of the integers 1 through 10. Round to two decimal places. For example, the first iteration of the loop in the program should print:</div>\n",
    "\n",
    "`The square root of 1 is 1.0`"
   ]
  },
  {
   "cell_type": "code",
   "execution_count": 9,
   "metadata": {},
   "outputs": [
    {
     "name": "stdout",
     "output_type": "stream",
     "text": [
      "The square root of 1 is 1.0\n",
      "The square root of 2 is 1.41\n",
      "The square root of 3 is 1.73\n",
      "The square root of 4 is 2.0\n",
      "The square root of 5 is 2.24\n",
      "The square root of 6 is 2.45\n",
      "The square root of 7 is 2.65\n",
      "The square root of 8 is 2.83\n",
      "The square root of 9 is 3.0\n",
      "The square root of 10 is 3.16\n"
     ]
    }
   ],
   "source": [
    "for i in range(1, 11):\n",
    "    print(\"The square root of {} is {}\".format(i, round(math.sqrt(i), 2)))"
   ]
  },
  {
   "cell_type": "markdown",
   "metadata": {},
   "source": [
    "<div class=\"alert alert-block alert-success\"><b>Problem 3</b>: Redo the previous problem, except instead of creating a <font color=black>for loop</font>, create a <font color=black><b>while loop</b></font> that uses <font color=black><i><u>math.sqrt(&nbsp;)</u></i></font> and calculates and prints the square root of each of the the integers 1 through 10. Round to two decimal places. Your output should look the same as the previous problem.</div>"
   ]
  },
  {
   "cell_type": "code",
   "execution_count": 11,
   "metadata": {},
   "outputs": [
    {
     "name": "stdout",
     "output_type": "stream",
     "text": [
      "The square root of 1 is 1.0\n",
      "The square root of 2 is 1.41\n",
      "The square root of 3 is 1.73\n",
      "The square root of 4 is 2.0\n",
      "The square root of 5 is 2.24\n",
      "The square root of 6 is 2.45\n",
      "The square root of 7 is 2.65\n",
      "The square root of 8 is 2.83\n",
      "The square root of 9 is 3.0\n",
      "The square root of 10 is 3.16\n"
     ]
    }
   ],
   "source": [
    "i = 1\n",
    "while i < 11:\n",
    "    print(\"The square root of {} is {}\".format(i, round(math.sqrt(i), 2)))\n",
    "    i += 1"
   ]
  },
  {
   "cell_type": "markdown",
   "metadata": {},
   "source": [
    "### User-defined Functions"
   ]
  },
  {
   "cell_type": "markdown",
   "metadata": {},
   "source": [
    "The remaining problems involve user defined functions. These have many benefits, one of which is reusability. They only need to be written once and can be reused several times. They are also a way to help us organize our code. For an additional resource on user-defined functions in Python, read through this tutorial: __[User-defined Functions](https://www.tutorialsteacher.com/python/python-user-defined-function)__"
   ]
  },
  {
   "cell_type": "markdown",
   "metadata": {},
   "source": [
    "<div class=\"alert alert-block alert-success\"><b>Problem 4</b>: Suppose the operator <font color=red>!=</font> does not exist in Python. Define a function <font color=black><b>not_equal</b></font> that uses subtraction to compare any two numbers, then gives the same result as the <font color=red>!=</font> operator. You <b><i><u>cannot</u></i></b> use <font color=red>=</font>, <font color=red>==</font>, or <font color=red>!=</font> in your program. Test your program using <br>\n",
    "\n",
    "(1) `x = -12` and `y = 3`<br>\n",
    "(2) `x = 3` and `y = -12`<br>\n",
    "(3) `x = y = -12` \n",
    "<br><br>See sample output below:</div>\n",
    "\n",
    "\n",
    "`-12 and 3 are not equal.`<br>\n",
    "`3 and -12 are not equal.`<br>\n",
    "`3 and 3 are equal.`"
   ]
  },
  {
   "cell_type": "code",
   "execution_count": 12,
   "metadata": {},
   "outputs": [
    {
     "name": "stdout",
     "output_type": "stream",
     "text": [
      "-12 and 3 are not equal.\n",
      "3 and -12 are not equal.\n",
      "-12 and -12 are equal.\n"
     ]
    }
   ],
   "source": [
    "def not_equal(num1, num2):\n",
    "    if num1 - num2 is 0:\n",
    "        print(\"{} and {} are equal.\".format(num1, num2))\n",
    "    else:\n",
    "        print(\"{} and {} are not equal.\".format(num1, num2))\n",
    "\n",
    "not_equal(-12, 3)\n",
    "not_equal(3, -12)\n",
    "not_equal(-12, -12)"
   ]
  },
  {
   "attachments": {
    "m3p5.png": {
     "image/png": "[encoded data removed]"
    }
   },
   "cell_type": "markdown",
   "metadata": {},
   "source": [
    "<div class=\"alert alert-block alert-success\"><b>Problem 5</b>: Complete a program containing user defined functions that prints out an <font color=black><b>n x n</b></font> square. You can use a function to print the top line, a function to print each row, and a final function to print the whole grid. \n",
    "\n",
    "<b>Example Output</b>: <i>Your 1x1, 2x2, 3x3 and 10x10 squares should look like the following</i>:</div>\n",
    "\n",
    "<img src=\"attachment:m3p5.png\" style=\"max-width:100%\">"
   ]
  },
  {
   "cell_type": "code",
   "execution_count": 14,
   "metadata": {},
   "outputs": [
    {
     "name": "stdout",
     "output_type": "stream",
     "text": [
      " _\n",
      "|_|\n",
      " _ _\n",
      "|_|_|\n",
      "|_|_|\n",
      " _ _ _\n",
      "|_|_|_|\n",
      "|_|_|_|\n",
      "|_|_|_|\n",
      " _ _ _ _ _ _ _ _ _ _\n",
      "|_|_|_|_|_|_|_|_|_|_|\n",
      "|_|_|_|_|_|_|_|_|_|_|\n",
      "|_|_|_|_|_|_|_|_|_|_|\n",
      "|_|_|_|_|_|_|_|_|_|_|\n",
      "|_|_|_|_|_|_|_|_|_|_|\n",
      "|_|_|_|_|_|_|_|_|_|_|\n",
      "|_|_|_|_|_|_|_|_|_|_|\n",
      "|_|_|_|_|_|_|_|_|_|_|\n",
      "|_|_|_|_|_|_|_|_|_|_|\n",
      "|_|_|_|_|_|_|_|_|_|_|\n"
     ]
    }
   ],
   "source": [
    "# For an nxn square the top line contains a space ' ' followed by an '_' repeated 'n' number of times\n",
    "def print_top_line(n):\n",
    "    line = \"\"\n",
    "    for i in range(0,n):\n",
    "        line+=\" _\"\n",
    "    # print the line variable\n",
    "    print(line)\n",
    "\n",
    "# For an nxn square a row contains a pipe '|' followed by an underscore '_' repeated 'n' number of times\n",
    "# *and* a pipe '|' symbol at the end\n",
    "def print_row(n):\n",
    "    # TODO: Initialize the line variable to an empty string\n",
    "    line = \"\"\n",
    "    for i in range(0,n):\n",
    "        line+=\"|_\"\n",
    "    # TODO: After the completion of the for loop, append a final pipe '|' to the line variable \n",
    "    line+= \"|\"\n",
    "    # TODO: print the line variable\n",
    "    print(line)\n",
    "    \n",
    "# Combine the two functions by printing the top line followed by the row 'n' times \n",
    "def print_square(n):\n",
    "    print_top_line(n)\n",
    "    # in a loop print row n times\n",
    "    for i in range(0,n):\n",
    "        #pass # This is only in place to eliminate an error if you try to run before n is assigned. Can be \n",
    "             # removed, but not required.\n",
    "        # TODO: invoke the print_row function with the parameter n \n",
    "        print_row(n)\n",
    "# Test Cases\n",
    "# TODO: 1) use the print_square function to print a 1x1 square \n",
    "print_square(1)\n",
    "# TODO: 2) use the print_square function to print a 2x2 square \n",
    "print_square(2)\n",
    "# TODO: 3) use the print_square function to print a 3x3 square\n",
    "print_square(3)\n",
    "# TODO: 4) use the print_square function to print a 10x10 square\n",
    "print_square(10)"
   ]
  },
  {
   "cell_type": "code",
   "execution_count": 0,
   "metadata": {},
   "outputs": [],
   "source": []
  }
 ],
 "metadata": {
  "kernelspec": {
   "display_name": "Python 3",
   "language": "python",
   "name": "python3"
  },
  "language_info": {
   "codemirror_mode": {
    "name": "ipython",
    "version": 3
   },
   "file_extension": ".py",
   "mimetype": "text/x-python",
   "name": "python",
   "nbconvert_exporter": "python",
   "pygments_lexer": "ipython3",
   "version": "3.7.6"
  },
  "varInspector": {
   "cols": {
    "lenName": 16,
    "lenType": 16,
    "lenVar": 40
   },
   "kernels_config": {
    "python": {
     "delete_cmd_postfix": "",
     "delete_cmd_prefix": "del ",
     "library": "var_list.py",
     "varRefreshCmd": "print(var_dic_list())"
    },
    "r": {
     "delete_cmd_postfix": ") ",
     "delete_cmd_prefix": "rm(",
     "library": "var_list.r",
     "varRefreshCmd": "cat(var_dic_list()) "
    }
   },
   "types_to_exclude": [
    "module",
    "function",
    "builtin_function_or_method",
    "instance",
    "_Feature"
   ],
   "window_display": false
  }
 },
 "nbformat": 4,
 "nbformat_minor": 1
}
