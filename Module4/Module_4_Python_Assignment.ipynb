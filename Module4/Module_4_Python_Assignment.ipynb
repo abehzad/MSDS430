{
 "cells": [
  {
   "cell_type": "markdown",
   "metadata": {},
   "source": [
    "# MSDS 430 Module 4 Python Assignment "
   ]
  },
  {
   "cell_type": "markdown",
   "metadata": {},
   "source": [
    "<div class=\"alert alert-block alert-warning\"><b>In this assignment you will read through the notebook and complete the exercises. Once you are satisfied with the results, submit your notebook, html file, and output.txt file to Canvas. Your files should include all output, i.e. run each cell and save your file before submitting.</b></div>"
   ]
  },
  {
   "cell_type": "markdown",
   "metadata": {},
   "source": [
    "<div class=\"alert alert-block alert-danger\"><b>Note:</b> You also must submit your <b>output.txt</b> file to Canvas for grading in addition to the usual notebook and html files.</div>"
   ]
  },
  {
   "cell_type": "markdown",
   "metadata": {},
   "source": [
    "<div class=\"alert alert-block alert-info\">One aspect of data science is working with data from files. In this assignment we will learn to read in a text file and extract some useful information. In the process we will be creating and manipulating Python lists. We will also see how data can be written to a new text file. Later in the course we'll learn more about how to display this information neatly and manipulate the data more efficiently, but for now we start by learning the basics of reading and writing text files.</div>"
   ]
  },
  {
   "cell_type": "markdown",
   "metadata": {},
   "source": [
    "### Reading Files"
   ]
  },
  {
   "cell_type": "markdown",
   "metadata": {},
   "source": [
    "You are given a file `pitching_stats.txt` that contains a `YTD` snapshot of `MLB` pitching stats for the top ten pitchers based on ERA around mid-season in 2018. Each row in the text file is a list of seven values (`name`, `team`, `games won`, `games lost`, `ERA`, `games pitched`, `innings pitched`) separated by spaces:\n",
    "\n",
    "`Degrom NYM 7 7 1.81 24 159.0\n",
    "Sale BOS 12 4 1.97 23 146.0\n",
    "Snell TB 13 5 2.18 22 128.0\n",
    "Scherzer WSH 15 5 2.19 25 168.2\n",
    "Bauer CLE 12 6 2.22 25 166.0\n",
    "Nola PHI 13 3 2.28 24 154.0\n",
    "Verlander HOU 11 8 2.52 26 164.1\n",
    "Kluber CLE 15 6 2.68 25 168.0\n",
    "Cole HOU 10 5 2.75 24 153.2\n",
    "Mikolas STL 12 3 2.85 24 151.1`\n",
    "\n",
    "\n",
    "In Python, there is an `open` method that takes the name of a text file in the current directory (or more generally a path to a text file in any directory on your computer) and returns what is known as a `file object`. This file object can be used to read from existing text file, create and write to a new file or append text to a pre-existing file. See \n",
    "\n",
    "__[Opening Files in Python](https://docs.python.org/3/library/functions.html#open)__\n",
    "\n",
    "For example, \n",
    "```python\n",
    "fileName = open('my_file.txt',r)\n",
    "```\n",
    "\n",
    "would open a file with filename `my_file.txt` for reading (i.e. `mode = 'r'`) and returns a corresponding file object which is assigned to the variable `fileName`. \n",
    "\n",
    "If the file cannot be opened for some reason (e.g. if the file doesn't exist in the current directory), then an error is generated. More specifically, an `Exception` object is created and said to be \"thrown\". "
   ]
  },
  {
   "cell_type": "code",
   "execution_count": 22,
   "metadata": {},
   "outputs": [],
   "source": [
    "fileName = open('pitching_stats.txt','r')\n",
    "#%pwd"
   ]
  },
  {
   "cell_type": "markdown",
   "metadata": {},
   "source": [
    "The FileNotFoundError (Exception object) was generated (thrown) because there is no my_file.txt in the current directory. If you are unsure what the default working directory is on your computer, you can type the command `%pwd` in a code cell then run it.\n",
    "\n",
    "If the file exists in another directory we could specify a path to the file instead, e.g. `'/Users/jsmith/data/my_file.txt'`.\n",
    "\n",
    "Below we provide error-handling code with the `open` method that prevents the program from crashing if something goes wrong. But exceptions and error handling will be discussed in more detail in a future module.\n",
    "\n",
    "First make sure that you save the provided file `pitching_stats.txt` in the same directory as this Python notebook."
   ]
  },
  {
   "cell_type": "markdown",
   "metadata": {},
   "source": [
    "<div class=\"alert alert-block alert-success\"><b>Problem 1</b>: Complete the program in the cell below so that a user is prompted with <b>Enter the name of the file for reading:</b> when the cell is executed and will open the file if it is in the current directory. The file we're interesting in reading is <b><i>pitching_stats.txt</i></b>:</div>\n",
    "\n",
    "\n",
    "<div class=\"alert alert-block alert-info\">If you enter <b><i>pitching_stats.txt</i></b> (which you saved in the current directory), you should see the following:\n",
    "\n",
    "`Enter the name of the file for reading: pitching_stats.txt\n",
    "The file was opened succesfully!`\n",
    "\n",
    "If you enter a different text file name, you will be told the file does not exist and you will be prompted again for a file name to enter:\n",
    "\n",
    "`Enter the name of the file for reading: wrong_file.txt\n",
    "Can not open the file [Errno 2] No such file or directory: 'wrong_file.txt'\n",
    "Enter the name of the file for reading:`\n",
    "\n",
    "\n",
    "The process is repeated until you enter the right filename.\n",
    "\n",
    "After you finish the problem, continue to read the markdown cells below for further instructions.</div>"
   ]
  },
  {
   "cell_type": "code",
   "execution_count": 23,
   "metadata": {},
   "outputs": [
    {
     "name": "stdout",
     "output_type": "stream",
     "text": [
      "Enter the name of the file for reading: t\n",
      "Can not open the file [Errno 2] No such file or directory: 't'\n",
      "Enter the name of the file for reading: pitching_stats.txt\n",
      "The file was opened succesfully!\n"
     ]
    }
   ],
   "source": [
    "while True:\n",
    "    \n",
    "    # TO DO: \n",
    "    # Prompt the user to enter the name of a file and save the user's input to a variable\n",
    "    nameofFile = input(\"Enter the name of the file for reading: \")\n",
    "    \n",
    "    try:\n",
    "        # TO DO:\n",
    "        # Open the file with name specified by the user using the open() method \n",
    "        # Make sure to save the file object to a variable.\n",
    "        fileName = open(nameofFile,'r')\n",
    "        \n",
    "        print(\"The file was opened succesfully!\")\n",
    "        \n",
    "        break\n",
    "    # code to \"catch\" the exception\n",
    "    except IOError as err:\n",
    "        print('Can not open the file', err)"
   ]
  },
  {
   "cell_type": "markdown",
   "metadata": {},
   "source": [
    "### Displaying File Contents"
   ]
  },
  {
   "cell_type": "markdown",
   "metadata": {},
   "source": [
    "Now that you have completed the first problem, you are going to learn how to use the file object to get the contents of the file. In `Problem 2` specific values from each row will be obtained in order to display a human readable summary of each pitcher's data. In `Problem 3`, on the other hand, we will focus on specific fields in order to obtain \"columnized\" output instead.\n",
    "\n",
    "If `filename` is a file object corresponding to a text, you can iterate over the lines of text in the file as follows:\n",
    "```python\n",
    "for line in filename:\n",
    "   # Do something with each line...for example we can print the line\n",
    "   # print(line)\n",
    "```\n",
    "We will use the `split()` method (defined in the String class) to break up each line of the file (which is a String object) into a list of its seven string values (`name, team, games won, games lost, ERA, games pitched, innings pitched`). We will study the String class and more of its methods in detail in a later module. \n",
    "\n",
    "To use the split method we need to first have a String object. Below we create String object called `line`. Then we call the `split()` method on this object in this way:\n",
    "```python\n",
    "line.split()\n",
    "```\n",
    "\n",
    "Run the cell below to see what you get..."
   ]
  },
  {
   "cell_type": "code",
   "execution_count": 24,
   "metadata": {},
   "outputs": [
    {
     "name": "stdout",
     "output_type": "stream",
     "text": [
      "['Degrom', 'NYM', '7', '7', '1.81', '24', '159.0']\n"
     ]
    }
   ],
   "source": [
    "line = 'Degrom NYM 7 7 1.81 24 159.0'\n",
    "lst = line.split()\n",
    "print(lst)"
   ]
  },
  {
   "cell_type": "markdown",
   "metadata": {},
   "source": [
    "Run the following three cells for some examples showing how to access elements of the list.."
   ]
  },
  {
   "cell_type": "code",
   "execution_count": 25,
   "metadata": {},
   "outputs": [
    {
     "name": "stdout",
     "output_type": "stream",
     "text": [
      "The first element of the list is Degrom\n"
     ]
    }
   ],
   "source": [
    "print('The first element of the list is',lst[0])"
   ]
  },
  {
   "cell_type": "code",
   "execution_count": 26,
   "metadata": {},
   "outputs": [
    {
     "name": "stdout",
     "output_type": "stream",
     "text": [
      "The fifth element of the list is 1.81\n"
     ]
    }
   ],
   "source": [
    "print('The fifth element of the list is',lst[4])"
   ]
  },
  {
   "cell_type": "code",
   "execution_count": 27,
   "metadata": {},
   "outputs": [
    {
     "name": "stdout",
     "output_type": "stream",
     "text": [
      "The last element of the list is 159.0\n"
     ]
    }
   ],
   "source": [
    "print('The last element of the list is',lst[-1])"
   ]
  },
  {
   "cell_type": "markdown",
   "metadata": {},
   "source": [
    "<div class=\"alert alert-block alert-success\"><b>Problem 2</b>: Iterate over lines in the file as demonstrated above and print the following for each line:</div>\n",
    "\n",
    "`\" < team > 'pitcher' < name > 'has an ERA of' < ERA >\"`<br>\n",
    "\n",
    "<div class=\"alert alert-block alert-info\">For example, the first line printed should look like this: </div>\n",
    "\n",
    "`NYM pitcher Degrom has an ERA of 1.81`"
   ]
  },
  {
   "cell_type": "code",
   "execution_count": 28,
   "metadata": {},
   "outputs": [
    {
     "name": "stdout",
     "output_type": "stream",
     "text": [
      "NYM pitcher Degrom has an ERA of 1.81\n",
      "BOS pitcher Sale has an ERA of 1.97\n",
      "TB pitcher Snell has an ERA of 2.18\n",
      "WSH pitcher Scherzer has an ERA of 2.19\n",
      "CLE pitcher Bauer has an ERA of 2.22\n",
      "PHI pitcher Nola has an ERA of 2.28\n",
      "HOU pitcher Verlander has an ERA of 2.52\n",
      "CLE pitcher Kluber has an ERA of 2.68\n",
      "HOU pitcher Cole has an ERA of 2.75\n",
      "STL pitcher Mikolas has an ERA of 2.85\n"
     ]
    }
   ],
   "source": [
    "bbfile = open(\"pitching_stats.txt\", \"r\")\n",
    "\n",
    "for line in bbfile:\n",
    "    \n",
    "    # TO DO\n",
    "    # Split the line into a list of strings..\n",
    "    lst = line.split()\n",
    "    \n",
    "    # TO DO\n",
    "    # Print the sentence...\n",
    "    print(lst[1], \"pitcher\", lst[0], \"has an ERA of\", lst[4])\n",
    "\n",
    "# We close the file\n",
    "bbfile.close()"
   ]
  },
  {
   "cell_type": "markdown",
   "metadata": {},
   "source": [
    "### Creating Lists"
   ]
  },
  {
   "cell_type": "markdown",
   "metadata": {},
   "source": [
    "Our next objective is to create two lists from the data: (1) a list of all of the pitcher's names and (2) the corresponding list of the number of games each pitcher won. \n",
    "\n",
    "But first we open the `pitching_stats.txt` file for reading again. This time we read all the lines at once using the file object's `readlines` method. What do you get when you run the following method?"
   ]
  },
  {
   "cell_type": "code",
   "execution_count": 29,
   "metadata": {},
   "outputs": [
    {
     "name": "stdout",
     "output_type": "stream",
     "text": [
      "['Degrom NYM 7 7 1.81 24 159.0\\n', 'Sale BOS 12 4 1.97 23 146.0\\n', 'Snell TB 13 5 2.18 22 128.0\\n', 'Scherzer WSH 15 5 2.19 25 168.2\\n', 'Bauer CLE 12 6 2.22 25 166.0\\n', 'Nola PHI 13 3 2.28 24 154.0\\n', 'Verlander HOU 11 8 2.52 26 164.1\\n', 'Kluber CLE 15 6 2.68 25 168.0\\n', 'Cole HOU 10 5 2.75 24 153.2\\n', 'Mikolas STL 12 3 2.85 24 151.1\\n']\n"
     ]
    }
   ],
   "source": [
    "bbfile = open(\"pitching_stats.txt\", \"r\")\n",
    "lines = bbfile.readlines()\n",
    "print(lines)"
   ]
  },
  {
   "cell_type": "markdown",
   "metadata": {},
   "source": [
    "We iterate over `lines` in much the same way we iterated over (the file object) `bbfile`. But first let us give some examples of how the `append` list method can be used to \"grow\" a list from scratch. As usual, you want to make sure you are running each of cells in the notebook one at a time..."
   ]
  },
  {
   "cell_type": "code",
   "execution_count": 30,
   "metadata": {},
   "outputs": [
    {
     "name": "stdout",
     "output_type": "stream",
     "text": [
      "['John Doe', 25]\n"
     ]
    }
   ],
   "source": [
    "# start with an empty list\n",
    "my_list = []\n",
    "# say we have a value we would like to append to the list\n",
    "name = \"John Doe\"\n",
    "# add it to the list\n",
    "my_list.append(name)\n",
    "# here is value of a different type...\n",
    "age = 25\n",
    "# append that to my_list as well...\n",
    "my_list.append(age)\n",
    "# print the list\n",
    "print(my_list)"
   ]
  },
  {
   "cell_type": "markdown",
   "metadata": {},
   "source": [
    "<div class=\"alert alert-block alert-success\"><b>Problem 3</b>: Complete the code in the cell below. The program starts with two empty lists: <b><i>names</i></b> and <b><i>games_won</i></b>. It should then iterate over the <b><i>lines</i></b> list, splitting each line in turn, and then obtaining both the name of the pitcher and the corresponding games he won and adding the values to the corresponding list.</div>"
   ]
  },
  {
   "cell_type": "code",
   "execution_count": 31,
   "metadata": {},
   "outputs": [],
   "source": [
    "names = []\n",
    "games_won = []\n",
    "\n",
    "for line in lines:\n",
    "    # TO DO\n",
    "    # Append the name of each pitcher and the corresponding games won to the appropriate list.\n",
    "    lst = line.split()\n",
    "    names.append(lst[0])\n",
    "    games_won.append(int(lst[2]))"
   ]
  },
  {
   "cell_type": "markdown",
   "metadata": {},
   "source": [
    "Run the following two cells to check that `name` and `games_won` lists were constructed properly."
   ]
  },
  {
   "cell_type": "code",
   "execution_count": 32,
   "metadata": {},
   "outputs": [
    {
     "name": "stdout",
     "output_type": "stream",
     "text": [
      "['Degrom', 'Sale', 'Snell', 'Scherzer', 'Bauer', 'Nola', 'Verlander', 'Kluber', 'Cole', 'Mikolas']\n"
     ]
    }
   ],
   "source": [
    "print(names)"
   ]
  },
  {
   "cell_type": "code",
   "execution_count": 33,
   "metadata": {},
   "outputs": [
    {
     "name": "stdout",
     "output_type": "stream",
     "text": [
      "[7, 12, 13, 15, 12, 13, 11, 15, 10, 12]\n"
     ]
    }
   ],
   "source": [
    "print(games_won)"
   ]
  },
  {
   "cell_type": "markdown",
   "metadata": {},
   "source": [
    "### Working with Methods"
   ]
  },
  {
   "cell_type": "markdown",
   "metadata": {},
   "source": [
    "Next we will introduce two list methods and ask you use them together in a program. First we have the `max` method to get the maximum value in a list."
   ]
  },
  {
   "cell_type": "code",
   "execution_count": 34,
   "metadata": {},
   "outputs": [
    {
     "data": {
      "text/plain": [
       "10"
      ]
     },
     "execution_count": 34,
     "metadata": {},
     "output_type": "execute_result"
    }
   ],
   "source": [
    "my_list = [1,2,3,10,4,5,6]\n",
    "max(my_list)"
   ]
  },
  {
   "cell_type": "markdown",
   "metadata": {},
   "source": [
    "Second, we can get the \"position\" of any value in the list using the `index` method. Note that the first position has `index` **zero** and not **one**. So it would be more accurate to think of the `index` as the `offset` as opposed to the `position`. "
   ]
  },
  {
   "cell_type": "code",
   "execution_count": 35,
   "metadata": {},
   "outputs": [
    {
     "data": {
      "text/plain": [
       "3"
      ]
     },
     "execution_count": 35,
     "metadata": {},
     "output_type": "execute_result"
    }
   ],
   "source": [
    "my_list.index(10)"
   ]
  },
  {
   "cell_type": "markdown",
   "metadata": {},
   "source": [
    "Run the following cell to double check that the value in position (offset) 3 really is 10..."
   ]
  },
  {
   "cell_type": "code",
   "execution_count": 36,
   "metadata": {},
   "outputs": [
    {
     "data": {
      "text/plain": [
       "10"
      ]
     },
     "execution_count": 36,
     "metadata": {},
     "output_type": "execute_result"
    }
   ],
   "source": [
    "my_list[3]"
   ]
  },
  {
   "cell_type": "markdown",
   "metadata": {},
   "source": [
    "<div class=\"alert alert-block alert-success\"><b>Problem 4</b>: Complete the program in the cell below. We are defining a function <b><i>print_top_pitcher</i></b> that takes two list arguments: <b><i>names_list</i></b> and <b><i>games_won_list</i></b>. Assume both lists have the same length <b><i>n</i></b>.\n",
    "\n",
    "Assume as well that <b><i>names_list</i></b>  is a (string) list of players' names and <b><i>games_won_list</i></b> the corresponding (integer) list of the number of games each player won. In other words, the player whose name is <b><i>names_list[i]</i></b> won <b><i>games_won_list[i]</i></b> games, where  <b><i>0 ≤ i ≤ n</i></b>. \n",
    "\n",
    "The function should find the player(s) who won the most games and print the name(s) of the player(s) together with the number of games won. </div>\n",
    "\n",
    "<div class=\"alert alert-block alert-info\">For example, <br>\n",
    "\n",
    "`print_top_pitcher(['John','Max','Jill'], [10,12,9])` should print (something like)\n",
    "\n",
    "**Max won the most games: 12**<br>\n",
    "\n",
    "while `print_top_pitcher(names,games_won)` should print <br>\n",
    "\n",
    "**Scherzer won the most games: 15**<br>\n",
    "**Kluber won the most games: 15**</div>"
   ]
  },
  {
   "cell_type": "code",
   "execution_count": 37,
   "metadata": {},
   "outputs": [],
   "source": [
    "def print_top_pitcher(names_list,games_won_list):\n",
    "    # TO DO\n",
    "    # Find the list of name(s) of the pitcher(s) who won the most games \n",
    "    # and the number of games he (they) won. Save these values to the variables\n",
    "    # top_pitcher and max_games, respectively. The given print statement should display \n",
    "    \n",
    "    # Scherzer won the most games: 15\n",
    "    # Kluber won the most games: 15\n",
    "    top_pitcher = names[games_won.index(max(games_won))]\n",
    "    max_games = max(games_won)\n",
    "    print(top_pitcher, \"won the most games:\", max_games)   "
   ]
  },
  {
   "cell_type": "code",
   "execution_count": 38,
   "metadata": {},
   "outputs": [
    {
     "name": "stdout",
     "output_type": "stream",
     "text": [
      "Scherzer won the most games: 15\n"
     ]
    }
   ],
   "source": [
    "# Run this cell to test the print_top_pitcher method\n",
    "print_top_pitcher(names,games_won)"
   ]
  },
  {
   "cell_type": "markdown",
   "metadata": {},
   "source": [
    "### Writing to a File"
   ]
  },
  {
   "cell_type": "markdown",
   "metadata": {},
   "source": [
    "Finally, we will redo `Problem 2` so that the output is written to a file instead of printed in a Jupyter notebook cell. The following line creates an empty file in the current directory and opens it for writing (`mode='w'`):\n",
    "```python\n",
    "outfile = open(\"output.txt\", \"w\")\n",
    "```\n",
    "Here `outfile` is a file object that can be used to write to the file:\n",
    "```python\n",
    "outfile.write(\"This is the first line written to the output file\")\n",
    "```\n",
    "\n",
    "If we wish to append lines of text to an existing text file then we should open it for appending it instead (`mode='a'`):\n",
    "```python\n",
    "outfile = open(\"output.txt\", \"a\")\n",
    "```"
   ]
  },
  {
   "cell_type": "markdown",
   "metadata": {},
   "source": [
    "<div class=\"alert alert-block alert-success\"><b>Problem 5</b>: Repeat `Problem 2` but instead of printing the output to a Jupyter notebook cell write the output, line by line, to a file with filename `output.txt`. Also add code to count the number of lines in the file. Finally, open the file once again, this time to append a string specifying the number of pitchers in the file. A possible string that you can append:</div>\n",
    "\n",
    "`There are 10 pitchers in the file.`\n",
    "\n",
    "<div class=\"alert alert-block alert-warning\">Again, don't write this string as given. You need to first find (using Python) the number of rows in the file and then use that information to construct the string that you will be appending to (end of) the file.</div>"
   ]
  },
  {
   "cell_type": "code",
   "execution_count": 39,
   "metadata": {},
   "outputs": [],
   "source": [
    "# TO DO\n",
    "# Open the file for writing.\n",
    "outfile = open(\"output.txt\", \"w\")\n",
    "#print(len(lines))\n",
    "count = 0\n",
    "for line in lines:\n",
    "    \n",
    "    # TO DO\n",
    "    # Split the line into a list of strings..\n",
    "    lst = line.split()\n",
    "    stats = lst[1] + ' ' + \"pitcher\" + ' ' + lst[0] + ' ' + \"has an ERA of\" + ' '+ lst[4]\n",
    "    \n",
    "    # TO DO\n",
    "    # Write the line to a file...\n",
    "    outfile.write(stats + '\\n')\n",
    "    count = 1 + count\n",
    "total_lines = str(count)\n",
    "outfile.write(\"There are\" + ' ' + total_lines + ' ' + \"lines.\" + '\\n')\n",
    "#TO DO:\n",
    "# Close the file.\n",
    "outfile.close()\n",
    "\n",
    "#TO DO:\n",
    "# Open the file for appending, construct the string you are going to write to the file\n",
    "# and then write the line to the end of the file.\n",
    "# Don't forget to close the file.\n",
    "\n",
    "appendfile = open(\"output.txt\", \"r\")\n",
    "new_lines = 'NYM pitcher Degrom has an ERA of 1.81'\n",
    "count2 = 0\n",
    "for new_lines in appendfile:\n",
    "    newlst = new_lines.split()\n",
    "    if 'pitcher' in newlst:\n",
    "        count2 = count2 +1\n",
    "    else:\n",
    "        break\n",
    "count2 = str(count2)\n",
    "appendfile.close()\n",
    "appendfile = open(\"output.txt\", \"a\")\n",
    "appendfile.write(\"There are\" + ' ' + count2 + ' ' + \"pitchers in the file.\" + '\\n')\n",
    "appendfile.close()\n"
   ]
  },
  {
   "cell_type": "code",
   "execution_count": 41,
   "metadata": {},
   "outputs": [
    {
     "name": "stdout",
     "output_type": "stream",
     "text": [
      "Enter the pitcher you want to lookup: Bauer\n",
      "What do you want to lookup (team, games_won, games_lost, ERA, games_pitched, innings_pitched): innings_pitched\n",
      "166.0\n"
     ]
    }
   ],
   "source": [
    "#Bonus\n",
    "statslookup = open(\"pitching_stats.txt\", \"r\")\n",
    "names_lower = []\n",
    "team = []\n",
    "games_lost = []\n",
    "ERA = []\n",
    "games_pitched = []\n",
    "innings_pitched = []\n",
    "for line in lines:\n",
    "    lst = line.split()\n",
    "    names_lower.append(lst[0].lower())\n",
    "    team.append(lst[1])\n",
    "    games_lost.append(int(lst[3]))\n",
    "    ERA.append(float(lst[4]))\n",
    "    games_pitched.append(int(lst[5]))\n",
    "    innings_pitched.append(float(lst[6]))\n",
    "\n",
    "pitcher_lookup = input(\"Enter the pitcher you want to lookup: \")\n",
    "pitcher_lookup = pitcher_lookup.lower()\n",
    "what_lookup =input(\"What do you want to lookup (team, games_won, games_lost, ERA, games_pitched, innings_pitched): \")\n",
    "\n",
    "line_index = names_lower.index(pitcher_lookup)\n",
    "if what_lookup == \"team\":\n",
    "    print(team[line_index])\n",
    "elif what_lookup == \"games_won\":\n",
    "    print(games_won[line_index])\n",
    "elif what_lookup == \"games_lost\":\n",
    "    print(games_lost[line_index])\n",
    "elif what_lookup == \"ERA\":\n",
    "    print(ERA[line_index])\n",
    "elif what_lookup == \"games_pitched\":\n",
    "    print(games_pitched[line_index])\n",
    "elif what_lookup == \"innings_pitched\":\n",
    "    print(innings_pitched[line_index])\n",
    "else:\n",
    "    print(\"That is not available, please try again.\")\n",
    "\n",
    "statslookup.close()"
   ]
  },
  {
   "cell_type": "markdown",
   "metadata": {},
   "source": [
    "### Viewing File Contents"
   ]
  },
  {
   "cell_type": "markdown",
   "metadata": {},
   "source": [
    "Though you can easily view the contents of the output text file you created using your favorite text editor there are ways of doing this using Python. Here we are going to use the shell command appropriate to your operating system. Note to access the shell commands from within the Jupyter notebook we need to prefix them with the `!` character."
   ]
  },
  {
   "cell_type": "code",
   "execution_count": 42,
   "metadata": {},
   "outputs": [
    {
     "name": "stdout",
     "output_type": "stream",
     "text": [
      "NYM pitcher Degrom has an ERA of 1.81\r\n",
      "BOS pitcher Sale has an ERA of 1.97\r\n",
      "TB pitcher Snell has an ERA of 2.18\r\n",
      "WSH pitcher Scherzer has an ERA of 2.19\r\n",
      "CLE pitcher Bauer has an ERA of 2.22\r\n",
      "PHI pitcher Nola has an ERA of 2.28\r\n",
      "HOU pitcher Verlander has an ERA of 2.52\r\n",
      "CLE pitcher Kluber has an ERA of 2.68\r\n",
      "HOU pitcher Cole has an ERA of 2.75\r\n",
      "STL pitcher Mikolas has an ERA of 2.85\r\n",
      "There are 10 lines.\r\n",
      "There are 10 pitchers in the file.\r\n"
     ]
    }
   ],
   "source": [
    "import platform\n",
    "\n",
    "if (platform.system() == 'Windows'):\n",
    "    !type output.txt\n",
    "else:        \n",
    "    !cat output.txt"
   ]
  },
  {
   "cell_type": "code",
   "execution_count": null,
   "metadata": {},
   "outputs": [],
   "source": []
  }
 ],
 "metadata": {
  "kernelspec": {
   "display_name": "Python 3",
   "language": "python",
   "name": "python3"
  },
  "language_info": {
   "codemirror_mode": {
    "name": "ipython",
    "version": 3
   },
   "file_extension": ".py",
   "mimetype": "text/x-python",
   "name": "python",
   "nbconvert_exporter": "python",
   "pygments_lexer": "ipython3",
   "version": "3.7.6"
  },
  "varInspector": {
   "cols": {
    "lenName": 16,
    "lenType": 16,
    "lenVar": 40
   },
   "kernels_config": {
    "python": {
     "delete_cmd_postfix": "",
     "delete_cmd_prefix": "del ",
     "library": "var_list.py",
     "varRefreshCmd": "print(var_dic_list())"
    },
    "r": {
     "delete_cmd_postfix": ") ",
     "delete_cmd_prefix": "rm(",
     "library": "var_list.r",
     "varRefreshCmd": "cat(var_dic_list()) "
    }
   },
   "types_to_exclude": [
    "module",
    "function",
    "builtin_function_or_method",
    "instance",
    "_Feature"
   ],
   "window_display": false
  }
 },
 "nbformat": 4,
 "nbformat_minor": 1
}
